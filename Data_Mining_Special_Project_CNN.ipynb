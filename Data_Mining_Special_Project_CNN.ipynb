{
  "nbformat": 4,
  "nbformat_minor": 0,
  "metadata": {
    "colab": {
      "name": "Data_Mining_Special Project_CNN.ipynb",
      "provenance": [],
      "collapsed_sections": [],
      "authorship_tag": "ABX9TyM8S4TNfJbzDPMBvDc3S44d",
      "include_colab_link": true
    },
    "kernelspec": {
      "name": "python3",
      "display_name": "Python 3"
    },
    "language_info": {
      "name": "python"
    }
  },
  "cells": [
    {
      "cell_type": "markdown",
      "metadata": {
        "id": "view-in-github",
        "colab_type": "text"
      },
      "source": [
        "<a href=\"https://colab.research.google.com/github/yeseul106/Data_Mining/blob/main/Data_Mining_Special_Project_CNN.ipynb\" target=\"_parent\"><img src=\"https://colab.research.google.com/assets/colab-badge.svg\" alt=\"Open In Colab\"/></a>"
      ]
    },
    {
      "cell_type": "markdown",
      "metadata": {
        "id": "AUpJXkoojYsw"
      },
      "source": [
        "# **2) 합성곱 신경망 (CNN)**\n",
        "\n",
        "- 입력 데이터의 특징을 추출하여 특징들의 패턴을 파악하는 신경망 구조.\n",
        "- 합성곱 신경망 알고리즘은 입력층과 출력층을 제외하고, 크게 Convolution Layer 와 Pooling Layer을 복합적으로 구성하여 알고리즘을 만든다."
      ]
    },
    {
      "cell_type": "code",
      "metadata": {
        "id": "kvpM4BbkjSIi"
      },
      "source": [
        "import tensorflow\n",
        "import keras\n",
        "from keras.datasets import mnist\n",
        "from keras.models import Sequential\n",
        "from keras.layers import Dense, Dropout, Flatten\n",
        "from keras.layers import Conv2D, MaxPooling2D\n",
        "import numpy as np\n",
        "import time"
      ],
      "execution_count": 1,
      "outputs": []
    },
    {
      "cell_type": "code",
      "metadata": {
        "id": "cfZ-Cfk0jq29"
      },
      "source": [
        "batch_size = 128\n",
        "num_classes = 10\n",
        "epochs = 12"
      ],
      "execution_count": 2,
      "outputs": []
    },
    {
      "cell_type": "code",
      "metadata": {
        "colab": {
          "base_uri": "https://localhost:8080/"
        },
        "id": "Vz8u_BkhjscB",
        "outputId": "4cce46a4-73bb-4942-e491-f37ac61f1985"
      },
      "source": [
        "# input image dimensions\n",
        "img_rows, img_cols = 28, 28\n",
        "\n",
        "# the data, split between train and test sets\n",
        "(x_train, y_train), (x_test, y_test) = mnist.load_data()\n",
        "\n",
        "x_train = x_train.reshape(60000,28,28,1)\n",
        "x_test = x_test.reshape(10000,28,28,1)\n",
        "\n",
        "print('x_train shape:', x_train.shape)\n",
        "print(x_train.shape[0], 'train samples')\n",
        "print(x_test.shape[0], 'test samples')"
      ],
      "execution_count": 3,
      "outputs": [
        {
          "output_type": "stream",
          "name": "stdout",
          "text": [
            "Downloading data from https://storage.googleapis.com/tensorflow/tf-keras-datasets/mnist.npz\n",
            "11493376/11490434 [==============================] - 0s 0us/step\n",
            "11501568/11490434 [==============================] - 0s 0us/step\n",
            "x_train shape: (60000, 28, 28, 1)\n",
            "60000 train samples\n",
            "10000 test samples\n"
          ]
        }
      ]
    },
    {
      "cell_type": "code",
      "metadata": {
        "id": "n9xVoflOjuuE"
      },
      "source": [
        "# convert class vectors to binary class matrices\n",
        "y_train = tensorflow.keras.utils.to_categorical(y_train, num_classes)\n",
        "y_test = tensorflow.keras.utils.to_categorical(y_test, num_classes)"
      ],
      "execution_count": 4,
      "outputs": []
    },
    {
      "cell_type": "markdown",
      "metadata": {
        "id": "LBlX7CNdjxhW"
      },
      "source": [
        "**모델 구현**"
      ]
    },
    {
      "cell_type": "code",
      "metadata": {
        "id": "DZpv4817jw9M"
      },
      "source": [
        "model = Sequential()\n",
        "model.add(Conv2D(32, kernel_size=(3, 3),\n",
        "                 activation='relu',\n",
        "                 input_shape=(28,28,1)))\n",
        "model.add(Conv2D(64, (3, 3), activation='relu'))\n",
        "model.add(MaxPooling2D(pool_size=(2, 2)))\n",
        "model.add(Dropout(0.25))\n",
        "model.add(Flatten())\n",
        "model.add(Dense(128, activation='relu'))\n",
        "model.add(Dropout(0.5))\n",
        "model.add(Dense(num_classes, activation='softmax'))"
      ],
      "execution_count": 6,
      "outputs": []
    },
    {
      "cell_type": "markdown",
      "metadata": {
        "id": "7ROr6lbXkBaG"
      },
      "source": [
        "**모델 컴파일**\n",
        "\n",
        "- 훈련하기 전, 사용할 손실 함수와 측정 지표 지정"
      ]
    },
    {
      "cell_type": "code",
      "metadata": {
        "id": "LIhmwTpHj3qZ"
      },
      "source": [
        "from tensorflow.keras import optimizers\n",
        "\n",
        "model.compile(loss=keras.losses.categorical_crossentropy, optimizer= optimizers.Adadelta(), metrics=['accuracy'])"
      ],
      "execution_count": 7,
      "outputs": []
    },
    {
      "cell_type": "code",
      "metadata": {
        "colab": {
          "base_uri": "https://localhost:8080/"
        },
        "id": "bkUmjs72kDtw",
        "outputId": "d3773af4-41ab-444f-c572-35a493670307"
      },
      "source": [
        "start_time = time.time()  # 모델 학습 시작시간 체크\n",
        "model.fit(x_train, y_train,\n",
        "          batch_size=batch_size,\n",
        "          epochs=epochs,\n",
        "          verbose=1,\n",
        "          validation_data=(x_test, y_test))\n",
        "end_time = time.time()  # 모델 학습 종료시간 체크\n",
        "print('모델 학습 시간: ', end_time - start_time)"
      ],
      "execution_count": 8,
      "outputs": [
        {
          "output_type": "stream",
          "name": "stdout",
          "text": [
            "Epoch 1/12\n",
            "469/469 [==============================] - 135s 286ms/step - loss: 25.0878 - accuracy: 0.1658 - val_loss: 4.3086 - val_accuracy: 0.4286\n",
            "Epoch 2/12\n",
            "469/469 [==============================] - 134s 285ms/step - loss: 10.4135 - accuracy: 0.2594 - val_loss: 1.7291 - val_accuracy: 0.5505\n",
            "Epoch 3/12\n",
            "469/469 [==============================] - 134s 285ms/step - loss: 5.3526 - accuracy: 0.3006 - val_loss: 1.5148 - val_accuracy: 0.5064\n",
            "Epoch 4/12\n",
            "469/469 [==============================] - 133s 284ms/step - loss: 3.3712 - accuracy: 0.3011 - val_loss: 1.7178 - val_accuracy: 0.4192\n",
            "Epoch 5/12\n",
            "469/469 [==============================] - 133s 284ms/step - loss: 2.5894 - accuracy: 0.2944 - val_loss: 1.8138 - val_accuracy: 0.3966\n",
            "Epoch 6/12\n",
            "469/469 [==============================] - 133s 284ms/step - loss: 2.2902 - accuracy: 0.2948 - val_loss: 1.8243 - val_accuracy: 0.4017\n",
            "Epoch 7/12\n",
            "469/469 [==============================] - 133s 284ms/step - loss: 2.1520 - accuracy: 0.3067 - val_loss: 1.7898 - val_accuracy: 0.4182\n",
            "Epoch 8/12\n",
            "469/469 [==============================] - 133s 285ms/step - loss: 2.0593 - accuracy: 0.3239 - val_loss: 1.7398 - val_accuracy: 0.4389\n",
            "Epoch 9/12\n",
            "469/469 [==============================] - 134s 285ms/step - loss: 1.9995 - accuracy: 0.3420 - val_loss: 1.6705 - val_accuracy: 0.4693\n",
            "Epoch 10/12\n",
            "469/469 [==============================] - 134s 285ms/step - loss: 1.9270 - accuracy: 0.3628 - val_loss: 1.5922 - val_accuracy: 0.5030\n",
            "Epoch 11/12\n",
            "469/469 [==============================] - 133s 284ms/step - loss: 1.8733 - accuracy: 0.3847 - val_loss: 1.5219 - val_accuracy: 0.5423\n",
            "Epoch 12/12\n",
            "469/469 [==============================] - 133s 284ms/step - loss: 1.8239 - accuracy: 0.4221 - val_loss: 1.4624 - val_accuracy: 0.5982\n",
            "모델 학습 시간:  1642.6300921440125\n"
          ]
        }
      ]
    },
    {
      "cell_type": "code",
      "metadata": {
        "colab": {
          "base_uri": "https://localhost:8080/"
        },
        "id": "-GKuLMdpkHBz",
        "outputId": "7a3f504f-0a1a-41e1-fc7e-f6bc6756c451"
      },
      "source": [
        "score = model.evaluate(x_test, y_test, verbose=0)\n",
        "print('Test loss:', score[0])\n",
        "print('Test accuracy:', score[1])"
      ],
      "execution_count": 9,
      "outputs": [
        {
          "output_type": "stream",
          "name": "stdout",
          "text": [
            "Test loss: 1.4623842239379883\n",
            "Test accuracy: 0.5982000231742859\n"
          ]
        }
      ]
    }
  ]
}