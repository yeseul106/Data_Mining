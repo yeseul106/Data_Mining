{
  "nbformat": 4,
  "nbformat_minor": 0,
  "metadata": {
    "colab": {
      "name": "Midterm_Problem4.ipynb",
      "provenance": [],
      "collapsed_sections": [],
      "authorship_tag": "ABX9TyNAGlPbAxpVPSL2Udj3QmI1",
      "include_colab_link": true
    },
    "kernelspec": {
      "name": "python3",
      "display_name": "Python 3"
    },
    "language_info": {
      "name": "python"
    }
  },
  "cells": [
    {
      "cell_type": "markdown",
      "metadata": {
        "id": "view-in-github",
        "colab_type": "text"
      },
      "source": [
        "<a href=\"https://colab.research.google.com/github/yeseul106/Data_Mining/blob/main/Midterm_Problem4.ipynb\" target=\"_parent\"><img src=\"https://colab.research.google.com/assets/colab-badge.svg\" alt=\"Open In Colab\"/></a>"
      ]
    },
    {
      "cell_type": "code",
      "metadata": {
        "id": "3eoz3fsU4AIl"
      },
      "source": [
        "import numpy as np\n",
        "import pandas as pd"
      ],
      "execution_count": null,
      "outputs": []
    },
    {
      "cell_type": "code",
      "metadata": {
        "colab": {
          "base_uri": "https://localhost:8080/"
        },
        "id": "P5xmWgia4jJH",
        "outputId": "552b70df-b2dd-4c01-e117-20e0f7697839"
      },
      "source": [
        "# 구글 드라이브 연결\n",
        "from google.colab import drive\n",
        "drive.mount('/content/drive')"
      ],
      "execution_count": null,
      "outputs": [
        {
          "output_type": "stream",
          "name": "stdout",
          "text": [
            "Mounted at /content/drive\n"
          ]
        }
      ]
    },
    {
      "cell_type": "code",
      "metadata": {
        "colab": {
          "base_uri": "https://localhost:8080/",
          "height": 222
        },
        "id": "ufwW1ViA4r8z",
        "outputId": "80e7b2ad-8549-47f8-be4a-9066c20343a3"
      },
      "source": [
        "# park csv 파일 읽어오기\n",
        "park = pd.read_csv('/content/drive/MyDrive/강의/데이터마이닝 수업/park.csv', encoding='cp949')\n",
        "print(park.shape)\n",
        "park.head(5)"
      ],
      "execution_count": null,
      "outputs": [
        {
          "output_type": "stream",
          "name": "stdout",
          "text": [
            "(55, 5)\n"
          ]
        },
        {
          "output_type": "execute_result",
          "data": {
            "text/html": [
              "<div>\n",
              "<style scoped>\n",
              "    .dataframe tbody tr th:only-of-type {\n",
              "        vertical-align: middle;\n",
              "    }\n",
              "\n",
              "    .dataframe tbody tr th {\n",
              "        vertical-align: top;\n",
              "    }\n",
              "\n",
              "    .dataframe thead th {\n",
              "        text-align: right;\n",
              "    }\n",
              "</style>\n",
              "<table border=\"1\" class=\"dataframe\">\n",
              "  <thead>\n",
              "    <tr style=\"text-align: right;\">\n",
              "      <th></th>\n",
              "      <th>년도</th>\n",
              "      <th>구분</th>\n",
              "      <th>일반이용자</th>\n",
              "      <th>운동시설</th>\n",
              "      <th>자전거</th>\n",
              "    </tr>\n",
              "  </thead>\n",
              "  <tbody>\n",
              "    <tr>\n",
              "      <th>0</th>\n",
              "      <td>2009년</td>\n",
              "      <td>광나루</td>\n",
              "      <td>1374424</td>\n",
              "      <td>157913</td>\n",
              "      <td>396165</td>\n",
              "    </tr>\n",
              "    <tr>\n",
              "      <th>1</th>\n",
              "      <td>2009년</td>\n",
              "      <td>잠실</td>\n",
              "      <td>1860362</td>\n",
              "      <td>69587</td>\n",
              "      <td>481561</td>\n",
              "    </tr>\n",
              "    <tr>\n",
              "      <th>2</th>\n",
              "      <td>2009년</td>\n",
              "      <td>뚝섬</td>\n",
              "      <td>1957592</td>\n",
              "      <td>49270</td>\n",
              "      <td>679795</td>\n",
              "    </tr>\n",
              "    <tr>\n",
              "      <th>3</th>\n",
              "      <td>2009년</td>\n",
              "      <td>잠원</td>\n",
              "      <td>849218</td>\n",
              "      <td>265643</td>\n",
              "      <td>431169</td>\n",
              "    </tr>\n",
              "    <tr>\n",
              "      <th>4</th>\n",
              "      <td>2009년</td>\n",
              "      <td>반포</td>\n",
              "      <td>1093427</td>\n",
              "      <td>147756</td>\n",
              "      <td>464922</td>\n",
              "    </tr>\n",
              "  </tbody>\n",
              "</table>\n",
              "</div>"
            ],
            "text/plain": [
              "      년도   구분    일반이용자    운동시설     자전거\n",
              "0  2009년  광나루  1374424  157913  396165\n",
              "1  2009년   잠실  1860362   69587  481561\n",
              "2  2009년   뚝섬  1957592   49270  679795\n",
              "3  2009년   잠원   849218  265643  431169\n",
              "4  2009년   반포  1093427  147756  464922"
            ]
          },
          "metadata": {},
          "execution_count": 3
        }
      ]
    },
    {
      "cell_type": "code",
      "metadata": {
        "colab": {
          "base_uri": "https://localhost:8080/"
        },
        "id": "_IRMN-FU44wa",
        "outputId": "285b2350-74e2-41fc-f153-7a56936b5982"
      },
      "source": [
        "# 구분하는 Class가 몇개인지 파악\n",
        "park['구분'].unique()"
      ],
      "execution_count": null,
      "outputs": [
        {
          "output_type": "execute_result",
          "data": {
            "text/plain": [
              "array(['광나루', '잠실', '뚝섬', '잠원', '반포', '이촌', '여의도', '양화', '망원', '난지', '강서'],\n",
              "      dtype=object)"
            ]
          },
          "metadata": {},
          "execution_count": 4
        }
      ]
    },
    {
      "cell_type": "code",
      "metadata": {
        "colab": {
          "base_uri": "https://localhost:8080/"
        },
        "id": "kWX4VYT05D-D",
        "outputId": "9d002d4e-01d0-4a49-9bf8-b255f56ef487"
      },
      "source": [
        "park['구분'].value_counts()"
      ],
      "execution_count": null,
      "outputs": [
        {
          "output_type": "execute_result",
          "data": {
            "text/plain": [
              "잠실     5\n",
              "광나루    5\n",
              "반포     5\n",
              "뚝섬     5\n",
              "난지     5\n",
              "양화     5\n",
              "이촌     5\n",
              "여의도    5\n",
              "망원     5\n",
              "강서     5\n",
              "잠원     5\n",
              "Name: 구분, dtype: int64"
            ]
          },
          "metadata": {},
          "execution_count": 7
        }
      ]
    },
    {
      "cell_type": "code",
      "metadata": {
        "colab": {
          "base_uri": "https://localhost:8080/",
          "height": 222
        },
        "id": "Kw29mnMW5KOE",
        "outputId": "bba70176-c06e-435e-bf3d-8e48f6c5a8f1"
      },
      "source": [
        "# 일반이용자,운동시설이용자,자전거이용자 3개를 가지고 예측하므로 필요한 feature만 정리\n",
        "park_data = pd.DataFrame(park, columns=['구분', '일반이용자', '운동시설', '자전거'])\n",
        "print(\"park_data shape : \",park_data.shape)\n",
        "park_data.head(5)"
      ],
      "execution_count": null,
      "outputs": [
        {
          "output_type": "stream",
          "name": "stdout",
          "text": [
            "park_data shape :  (55, 4)\n"
          ]
        },
        {
          "output_type": "execute_result",
          "data": {
            "text/html": [
              "<div>\n",
              "<style scoped>\n",
              "    .dataframe tbody tr th:only-of-type {\n",
              "        vertical-align: middle;\n",
              "    }\n",
              "\n",
              "    .dataframe tbody tr th {\n",
              "        vertical-align: top;\n",
              "    }\n",
              "\n",
              "    .dataframe thead th {\n",
              "        text-align: right;\n",
              "    }\n",
              "</style>\n",
              "<table border=\"1\" class=\"dataframe\">\n",
              "  <thead>\n",
              "    <tr style=\"text-align: right;\">\n",
              "      <th></th>\n",
              "      <th>구분</th>\n",
              "      <th>일반이용자</th>\n",
              "      <th>운동시설</th>\n",
              "      <th>자전거</th>\n",
              "    </tr>\n",
              "  </thead>\n",
              "  <tbody>\n",
              "    <tr>\n",
              "      <th>0</th>\n",
              "      <td>광나루</td>\n",
              "      <td>1374424</td>\n",
              "      <td>157913</td>\n",
              "      <td>396165</td>\n",
              "    </tr>\n",
              "    <tr>\n",
              "      <th>1</th>\n",
              "      <td>잠실</td>\n",
              "      <td>1860362</td>\n",
              "      <td>69587</td>\n",
              "      <td>481561</td>\n",
              "    </tr>\n",
              "    <tr>\n",
              "      <th>2</th>\n",
              "      <td>뚝섬</td>\n",
              "      <td>1957592</td>\n",
              "      <td>49270</td>\n",
              "      <td>679795</td>\n",
              "    </tr>\n",
              "    <tr>\n",
              "      <th>3</th>\n",
              "      <td>잠원</td>\n",
              "      <td>849218</td>\n",
              "      <td>265643</td>\n",
              "      <td>431169</td>\n",
              "    </tr>\n",
              "    <tr>\n",
              "      <th>4</th>\n",
              "      <td>반포</td>\n",
              "      <td>1093427</td>\n",
              "      <td>147756</td>\n",
              "      <td>464922</td>\n",
              "    </tr>\n",
              "  </tbody>\n",
              "</table>\n",
              "</div>"
            ],
            "text/plain": [
              "    구분    일반이용자    운동시설     자전거\n",
              "0  광나루  1374424  157913  396165\n",
              "1   잠실  1860362   69587  481561\n",
              "2   뚝섬  1957592   49270  679795\n",
              "3   잠원   849218  265643  431169\n",
              "4   반포  1093427  147756  464922"
            ]
          },
          "metadata": {},
          "execution_count": 8
        }
      ]
    },
    {
      "cell_type": "code",
      "metadata": {
        "colab": {
          "base_uri": "https://localhost:8080/"
        },
        "id": "gpuntZ6w5mF3",
        "outputId": "9cb6d202-fcfe-4691-81ec-e2cb22bba081"
      },
      "source": [
        "from sklearn.neighbors import KNeighborsClassifier\n",
        "\n",
        "# 일반이용자, 운동시설, 자전거를 리스트로 짝지어서 다시 정리\n",
        "feature_list = [[x, y, z] for x,y,z in zip(park_data['일반이용자'], park_data['운동시설'], park_data['자전거'])]\n",
        "print(\"feature_list의 len : \", len(feature_list))\n",
        "print(\"feature_list[0]: \", feature_list[0])\n",
        "print(\"feature_list[4]: \", feature_list[4])"
      ],
      "execution_count": null,
      "outputs": [
        {
          "output_type": "stream",
          "name": "stdout",
          "text": [
            "feature_list의 len :  55\n",
            "feature_list[0]:  [1374424, 157913, 396165]\n",
            "feature_list[4]:  [1093427, 147756, 464922]\n"
          ]
        }
      ]
    },
    {
      "cell_type": "code",
      "metadata": {
        "colab": {
          "base_uri": "https://localhost:8080/"
        },
        "id": "0Hjb8NZA6J3h",
        "outputId": "6c31ad57-a4a0-468c-eb52-4237c6d220c5"
      },
      "source": [
        "y_label = park_data['구분']\n",
        "print(\"정답 레이블의 shape : \", y_label.shape)"
      ],
      "execution_count": null,
      "outputs": [
        {
          "output_type": "stream",
          "name": "stdout",
          "text": [
            "정답 레이블의 shape :  (55,)\n"
          ]
        }
      ]
    },
    {
      "cell_type": "code",
      "metadata": {
        "colab": {
          "base_uri": "https://localhost:8080/"
        },
        "id": "TMKSWWtL6Xik",
        "outputId": "dca42746-f55e-4c8e-f6c0-dafdfedfb899"
      },
      "source": [
        "knn = KNeighborsClassifier()\n",
        "knn.fit(feature_list, y_label)"
      ],
      "execution_count": null,
      "outputs": [
        {
          "output_type": "execute_result",
          "data": {
            "text/plain": [
              "KNeighborsClassifier(algorithm='auto', leaf_size=30, metric='minkowski',\n",
              "                     metric_params=None, n_jobs=None, n_neighbors=5, p=2,\n",
              "                     weights='uniform')"
            ]
          },
          "metadata": {},
          "execution_count": 13
        }
      ]
    },
    {
      "cell_type": "code",
      "metadata": {
        "id": "6TLwPn6zfz8O"
      },
      "source": [
        "# knn.predict 하기"
      ],
      "execution_count": 1,
      "outputs": []
    },
    {
      "cell_type": "code",
      "metadata": {
        "colab": {
          "base_uri": "https://localhost:8080/"
        },
        "id": "NEnZbdIk6dlw",
        "outputId": "2e564644-8788-4466-84c6-f31307cd0141"
      },
      "source": [
        "print(knn.predict([[1500000,20000,500000]]))"
      ],
      "execution_count": null,
      "outputs": [
        {
          "output_type": "stream",
          "name": "stdout",
          "text": [
            "['잠실']\n"
          ]
        }
      ]
    }
  ]
}