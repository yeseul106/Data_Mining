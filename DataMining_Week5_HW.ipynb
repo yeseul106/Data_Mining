{
  "nbformat": 4,
  "nbformat_minor": 0,
  "metadata": {
    "colab": {
      "name": "DataMining_Week5_HW.ipynb",
      "provenance": [],
      "collapsed_sections": [],
      "authorship_tag": "ABX9TyMQd6f1BTE2PznNtUkrkz+r",
      "include_colab_link": true
    },
    "kernelspec": {
      "name": "python3",
      "display_name": "Python 3"
    },
    "language_info": {
      "name": "python"
    }
  },
  "cells": [
    {
      "cell_type": "markdown",
      "metadata": {
        "id": "view-in-github",
        "colab_type": "text"
      },
      "source": [
        "<a href=\"https://colab.research.google.com/github/yeseul106/Data_Mining/blob/main/DataMining_Week5_HW.ipynb\" target=\"_parent\"><img src=\"https://colab.research.google.com/assets/colab-badge.svg\" alt=\"Open In Colab\"/></a>"
      ]
    },
    {
      "cell_type": "code",
      "metadata": {
        "id": "AyH_hxQ4-mhy"
      },
      "source": [
        "import numpy as np\n",
        "import pandas as pd"
      ],
      "execution_count": 1,
      "outputs": []
    },
    {
      "cell_type": "code",
      "metadata": {
        "colab": {
          "base_uri": "https://localhost:8080/"
        },
        "id": "iIhLGdrv-sfT",
        "outputId": "7bab9914-038f-447f-e255-3dc4b0673efe"
      },
      "source": [
        "# 구글 드라이브 연결\n",
        "from google.colab import drive\n",
        "drive.mount('/content/drive')"
      ],
      "execution_count": 7,
      "outputs": [
        {
          "output_type": "stream",
          "name": "stdout",
          "text": [
            "Drive already mounted at /content/drive; to attempt to forcibly remount, call drive.mount(\"/content/drive\", force_remount=True).\n"
          ]
        }
      ]
    },
    {
      "cell_type": "code",
      "metadata": {
        "colab": {
          "base_uri": "https://localhost:8080/",
          "height": 225
        },
        "id": "KrOik8NL_0Y2",
        "outputId": "8bdf6a08-9476-4843-8ee6-73fcc722c0a8"
      },
      "source": [
        "# random_number.csv 파일 읽어오기\n",
        "random_number = pd.read_csv('/content/drive/MyDrive/강의/데이터마이닝 수업/random_number.csv')\n",
        "print(random_number.shape)\n",
        "random_number.head(5)"
      ],
      "execution_count": 9,
      "outputs": [
        {
          "output_type": "stream",
          "name": "stdout",
          "text": [
            "(9999, 2)\n"
          ]
        },
        {
          "output_type": "execute_result",
          "data": {
            "text/html": [
              "<div>\n",
              "<style scoped>\n",
              "    .dataframe tbody tr th:only-of-type {\n",
              "        vertical-align: middle;\n",
              "    }\n",
              "\n",
              "    .dataframe tbody tr th {\n",
              "        vertical-align: top;\n",
              "    }\n",
              "\n",
              "    .dataframe thead th {\n",
              "        text-align: right;\n",
              "    }\n",
              "</style>\n",
              "<table border=\"1\" class=\"dataframe\">\n",
              "  <thead>\n",
              "    <tr style=\"text-align: right;\">\n",
              "      <th></th>\n",
              "      <th>2</th>\n",
              "      <th>1</th>\n",
              "    </tr>\n",
              "  </thead>\n",
              "  <tbody>\n",
              "    <tr>\n",
              "      <th>0</th>\n",
              "      <td>2</td>\n",
              "      <td>2</td>\n",
              "    </tr>\n",
              "    <tr>\n",
              "      <th>1</th>\n",
              "      <td>0</td>\n",
              "      <td>0</td>\n",
              "    </tr>\n",
              "    <tr>\n",
              "      <th>2</th>\n",
              "      <td>2</td>\n",
              "      <td>2</td>\n",
              "    </tr>\n",
              "    <tr>\n",
              "      <th>3</th>\n",
              "      <td>0</td>\n",
              "      <td>0</td>\n",
              "    </tr>\n",
              "    <tr>\n",
              "      <th>4</th>\n",
              "      <td>1</td>\n",
              "      <td>0</td>\n",
              "    </tr>\n",
              "  </tbody>\n",
              "</table>\n",
              "</div>"
            ],
            "text/plain": [
              "   2  1\n",
              "0  2  2\n",
              "1  0  0\n",
              "2  2  2\n",
              "3  0  0\n",
              "4  1  0"
            ]
          },
          "metadata": {},
          "execution_count": 9
        }
      ]
    },
    {
      "cell_type": "markdown",
      "metadata": {
        "id": "Wgj6L6OJAp2w"
      },
      "source": [
        "**첫번째 열 : Actual Data**\n",
        "\n",
        "**두번째 열 : Predicated Data**\n",
        "\n",
        "![image.png](data:image/png;base64,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)\n",
        "\n",
        "실제 csv 파일을 열어보면 df과 다름.\n",
        "첫번째 행이 데이터프레임의 index로 잘못 들어가있음."
      ]
    },
    {
      "cell_type": "code",
      "metadata": {
        "colab": {
          "base_uri": "https://localhost:8080/",
          "height": 225
        },
        "id": "HYFtGAptARup",
        "outputId": "4f7d57e1-e8f2-4d5c-a6fc-86c128aa8f20"
      },
      "source": [
        "df =  pd.read_csv('/content/drive/MyDrive/강의/데이터마이닝 수업/random_number.csv', names = ['Actual','Predicted'], header=None) # header 없이 불러오기\n",
        "print(df.shape)\n",
        "df.head(5)"
      ],
      "execution_count": 15,
      "outputs": [
        {
          "output_type": "stream",
          "name": "stdout",
          "text": [
            "(10000, 2)\n"
          ]
        },
        {
          "output_type": "execute_result",
          "data": {
            "text/html": [
              "<div>\n",
              "<style scoped>\n",
              "    .dataframe tbody tr th:only-of-type {\n",
              "        vertical-align: middle;\n",
              "    }\n",
              "\n",
              "    .dataframe tbody tr th {\n",
              "        vertical-align: top;\n",
              "    }\n",
              "\n",
              "    .dataframe thead th {\n",
              "        text-align: right;\n",
              "    }\n",
              "</style>\n",
              "<table border=\"1\" class=\"dataframe\">\n",
              "  <thead>\n",
              "    <tr style=\"text-align: right;\">\n",
              "      <th></th>\n",
              "      <th>Actual</th>\n",
              "      <th>Predicted</th>\n",
              "    </tr>\n",
              "  </thead>\n",
              "  <tbody>\n",
              "    <tr>\n",
              "      <th>0</th>\n",
              "      <td>2</td>\n",
              "      <td>1</td>\n",
              "    </tr>\n",
              "    <tr>\n",
              "      <th>1</th>\n",
              "      <td>2</td>\n",
              "      <td>2</td>\n",
              "    </tr>\n",
              "    <tr>\n",
              "      <th>2</th>\n",
              "      <td>0</td>\n",
              "      <td>0</td>\n",
              "    </tr>\n",
              "    <tr>\n",
              "      <th>3</th>\n",
              "      <td>2</td>\n",
              "      <td>2</td>\n",
              "    </tr>\n",
              "    <tr>\n",
              "      <th>4</th>\n",
              "      <td>0</td>\n",
              "      <td>0</td>\n",
              "    </tr>\n",
              "  </tbody>\n",
              "</table>\n",
              "</div>"
            ],
            "text/plain": [
              "   Actual  Predicted\n",
              "0       2          1\n",
              "1       2          2\n",
              "2       0          0\n",
              "3       2          2\n",
              "4       0          0"
            ]
          },
          "metadata": {},
          "execution_count": 15
        }
      ]
    },
    {
      "cell_type": "code",
      "metadata": {
        "colab": {
          "base_uri": "https://localhost:8080/"
        },
        "id": "hf8Y-9BvBkh3",
        "outputId": "890c53b0-be50-45e7-831e-455d6c80f413"
      },
      "source": [
        "# Binary Classification 이 아니므로 몇개의 class 로 분류했는지 파악\n",
        "print(\"Actual : \", df['Actual'].unique())\n",
        "print(\"Predicted : \", df['Predicted'].unique())"
      ],
      "execution_count": 17,
      "outputs": [
        {
          "output_type": "stream",
          "name": "stdout",
          "text": [
            "Actual :  [2 0 1]\n",
            "Predicted :  [1 2 0]\n"
          ]
        }
      ]
    },
    {
      "cell_type": "markdown",
      "metadata": {
        "id": "ah1MLyXRIuXH"
      },
      "source": [
        "**Confusion Matrix를 만들기 위해 각각의 값 구하기**\n",
        "\n",
        "N(a,b) = 실제 a 예측 b"
      ]
    },
    {
      "cell_type": "code",
      "metadata": {
        "colab": {
          "base_uri": "https://localhost:8080/"
        },
        "id": "tOAEkDrMF0Po",
        "outputId": "2e849359-e219-48d4-95c4-0b9df827108c"
      },
      "source": [
        "N00= N01= N02= N10= N11= N12= N20= N21= N22= 0\n",
        "\n",
        "for row in range(df.shape[0]):\n",
        "  if (df['Actual'].iloc[row]==0): # 실제 값 0\n",
        "    if (df['Predicted'].iloc[row]==0):\n",
        "      N00 = N00+1\n",
        "    elif (df['Predicted'].iloc[row]==1):\n",
        "      N01 = N01+1\n",
        "    elif (df['Predicted'].iloc[row]==2):\n",
        "      N02 = N02+1\n",
        "  elif (df['Actual'].iloc[row]==1): # 실제 값 1\n",
        "    if (df['Predicted'].iloc[row]==0):\n",
        "      N10 = N10+1\n",
        "    elif (df['Predicted'].iloc[row]==1):\n",
        "      N11 = N11+1\n",
        "    elif (df['Predicted'].iloc[row]==2):\n",
        "      N12 = N12+1\n",
        "  elif (df['Actual'].iloc[row]==2): # 실제 값 2\n",
        "    if (df['Predicted'].iloc[row]==0):\n",
        "      N20 = N20+1\n",
        "    elif (df['Predicted'].iloc[row]==1):\n",
        "      N21 = N21+1\n",
        "    elif (df['Predicted'].iloc[row]==2):\n",
        "      N22 = N22+1\n",
        "\n",
        "print(\"N00 : \", N00)\n",
        "print(\"N01 : \", N01)\n",
        "print(\"N02 : \", N02)\n",
        "print(\"N10 : \", N10)\n",
        "print(\"N11 : \", N11)\n",
        "print(\"N12 : \", N12)\n",
        "print(\"N20 : \", N20)\n",
        "print(\"N21 : \", N21)\n",
        "print(\"N22 : \", N22)"
      ],
      "execution_count": 19,
      "outputs": [
        {
          "output_type": "stream",
          "name": "stdout",
          "text": [
            "N00 :  6847\n",
            "N01 :  0\n",
            "N02 :  0\n",
            "N10 :  1559\n",
            "N11 :  0\n",
            "N12 :  0\n",
            "N20 :  0\n",
            "N21 :  745\n",
            "N22 :  849\n"
          ]
        }
      ]
    },
    {
      "cell_type": "code",
      "metadata": {
        "colab": {
          "base_uri": "https://localhost:8080/"
        },
        "id": "nr1duN9QOM-O",
        "outputId": "83a57a91-7d45-431d-fc5a-6ab11d58eefc"
      },
      "source": [
        "# count가 잘 되었는지 확인\n",
        "print(\"total sum : \", N00 + N01+ N02 + N10 + N11 + N12 + N20 + N21 + N22)"
      ],
      "execution_count": 20,
      "outputs": [
        {
          "output_type": "stream",
          "name": "stdout",
          "text": [
            "total sum :  10000\n"
          ]
        }
      ]
    },
    {
      "cell_type": "markdown",
      "metadata": {
        "id": "UaJJ1roDTMVt"
      },
      "source": [
        "# **1) 3 x 3 confusion 매트릭스**"
      ]
    },
    {
      "cell_type": "code",
      "metadata": {
        "colab": {
          "base_uri": "https://localhost:8080/",
          "height": 143
        },
        "id": "dj_M52HdOkQq",
        "outputId": "e3380fa7-9450-489a-dfb7-62fb07901c58"
      },
      "source": [
        "# confusion matrix 만들기\n",
        "confusion_matrix = pd.DataFrame({'예측 0':[N00, N10, N20],\n",
        "                                 '예측 1':[N01, N11, N21],\n",
        "                                 '예측 2':[N02, N12, N22]}, index = ['실제 0', '실제 1', '실제 2'])\n",
        "confusion_matrix"
      ],
      "execution_count": 21,
      "outputs": [
        {
          "output_type": "execute_result",
          "data": {
            "text/html": [
              "<div>\n",
              "<style scoped>\n",
              "    .dataframe tbody tr th:only-of-type {\n",
              "        vertical-align: middle;\n",
              "    }\n",
              "\n",
              "    .dataframe tbody tr th {\n",
              "        vertical-align: top;\n",
              "    }\n",
              "\n",
              "    .dataframe thead th {\n",
              "        text-align: right;\n",
              "    }\n",
              "</style>\n",
              "<table border=\"1\" class=\"dataframe\">\n",
              "  <thead>\n",
              "    <tr style=\"text-align: right;\">\n",
              "      <th></th>\n",
              "      <th>예측 0</th>\n",
              "      <th>예측 1</th>\n",
              "      <th>예측 2</th>\n",
              "    </tr>\n",
              "  </thead>\n",
              "  <tbody>\n",
              "    <tr>\n",
              "      <th>실제 0</th>\n",
              "      <td>6847</td>\n",
              "      <td>0</td>\n",
              "      <td>0</td>\n",
              "    </tr>\n",
              "    <tr>\n",
              "      <th>실제 1</th>\n",
              "      <td>1559</td>\n",
              "      <td>0</td>\n",
              "      <td>0</td>\n",
              "    </tr>\n",
              "    <tr>\n",
              "      <th>실제 2</th>\n",
              "      <td>0</td>\n",
              "      <td>745</td>\n",
              "      <td>849</td>\n",
              "    </tr>\n",
              "  </tbody>\n",
              "</table>\n",
              "</div>"
            ],
            "text/plain": [
              "      예측 0  예측 1  예측 2\n",
              "실제 0  6847     0     0\n",
              "실제 1  1559     0     0\n",
              "실제 2     0   745   849"
            ]
          },
          "metadata": {},
          "execution_count": 21
        }
      ]
    },
    {
      "cell_type": "markdown",
      "metadata": {
        "id": "iXVJt73ZUSr8"
      },
      "source": [
        "# **2) Accuracy, Error 구하기**\n",
        "\n",
        "**n = 10000**"
      ]
    },
    {
      "cell_type": "code",
      "metadata": {
        "colab": {
          "base_uri": "https://localhost:8080/"
        },
        "id": "FfRKVdurTEOg",
        "outputId": "fd102985-8903-44ab-a3d4-ca303728ad0b"
      },
      "source": [
        "# Accuracy\n",
        "accuracy = ( N00 + N11 + N22 ) / df.shape[0]\n",
        "print(\"accuracy : \", accuracy)"
      ],
      "execution_count": 22,
      "outputs": [
        {
          "output_type": "stream",
          "name": "stdout",
          "text": [
            "accuracy :  0.7696\n"
          ]
        }
      ]
    },
    {
      "cell_type": "code",
      "metadata": {
        "colab": {
          "base_uri": "https://localhost:8080/"
        },
        "id": "W7qR1RMNU3HM",
        "outputId": "09498a00-e7a1-4f27-e5e3-8528f3785e3c"
      },
      "source": [
        "# Error\n",
        "error = ( N01 + N02 + N10 + N12 + N20 + N21 ) / df.shape[0]\n",
        "print(\"error : \", error)"
      ],
      "execution_count": 23,
      "outputs": [
        {
          "output_type": "stream",
          "name": "stdout",
          "text": [
            "error :  0.2304\n"
          ]
        }
      ]
    },
    {
      "cell_type": "code",
      "metadata": {
        "colab": {
          "base_uri": "https://localhost:8080/"
        },
        "id": "RIz0SXyhYD8W",
        "outputId": "883226a2-4989-411c-d287-1ceef4f2ef5a"
      },
      "source": [
        "# Accuracy + error = 1 인지 확인하기\n",
        "print(\"accuracy + error : \" , accuracy + error)"
      ],
      "execution_count": 24,
      "outputs": [
        {
          "output_type": "stream",
          "name": "stdout",
          "text": [
            "accuracy + error :  1.0\n"
          ]
        }
      ]
    }
  ]
}