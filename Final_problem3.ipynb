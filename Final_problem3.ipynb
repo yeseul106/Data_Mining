{
  "nbformat": 4,
  "nbformat_minor": 0,
  "metadata": {
    "colab": {
      "name": "Final_problem3.ipynb",
      "provenance": [],
      "collapsed_sections": [],
      "authorship_tag": "ABX9TyOfSvKh9Y2fOOCpL3avX7Y+",
      "include_colab_link": true
    },
    "kernelspec": {
      "name": "python3",
      "display_name": "Python 3"
    },
    "language_info": {
      "name": "python"
    }
  },
  "cells": [
    {
      "cell_type": "markdown",
      "metadata": {
        "id": "view-in-github",
        "colab_type": "text"
      },
      "source": [
        "<a href=\"https://colab.research.google.com/github/yeseul106/Data_Mining/blob/main/Final_problem3.ipynb\" target=\"_parent\"><img src=\"https://colab.research.google.com/assets/colab-badge.svg\" alt=\"Open In Colab\"/></a>"
      ]
    },
    {
      "cell_type": "code",
      "execution_count": 1,
      "metadata": {
        "id": "LZ3oYH6_JqUc"
      },
      "outputs": [],
      "source": [
        "import numpy as np\n",
        "import pandas as pd"
      ]
    },
    {
      "cell_type": "code",
      "source": [
        "# 구글 드라이브 연결\n",
        "from google.colab import drive\n",
        "drive.mount('/content/drive')"
      ],
      "metadata": {
        "colab": {
          "base_uri": "https://localhost:8080/"
        },
        "id": "8HzPLgDWJzUa",
        "outputId": "ce4f1900-47f2-4474-c619-dbe6d8d7bba0"
      },
      "execution_count": 2,
      "outputs": [
        {
          "output_type": "stream",
          "name": "stdout",
          "text": [
            "Mounted at /content/drive\n"
          ]
        }
      ]
    },
    {
      "cell_type": "code",
      "source": [
        "# data 파일 읽어오기\n",
        "data = pd.read_csv('/content/drive/MyDrive/강의/데이터마이닝 수업/final/subway_1.csv', encoding='cp949')\n",
        "print(data.shape)\n",
        "data.head(5)"
      ],
      "metadata": {
        "colab": {
          "base_uri": "https://localhost:8080/",
          "height": 225
        },
        "id": "5V49OI5KJ1dQ",
        "outputId": "56164e70-28bd-48a9-e837-5a74b01f59ab"
      },
      "execution_count": 3,
      "outputs": [
        {
          "output_type": "stream",
          "name": "stdout",
          "text": [
            "(62, 6)\n"
          ]
        },
        {
          "output_type": "execute_result",
          "data": {
            "text/html": [
              "<div>\n",
              "<style scoped>\n",
              "    .dataframe tbody tr th:only-of-type {\n",
              "        vertical-align: middle;\n",
              "    }\n",
              "\n",
              "    .dataframe tbody tr th {\n",
              "        vertical-align: top;\n",
              "    }\n",
              "\n",
              "    .dataframe thead th {\n",
              "        text-align: right;\n",
              "    }\n",
              "</style>\n",
              "<table border=\"1\" class=\"dataframe\">\n",
              "  <thead>\n",
              "    <tr style=\"text-align: right;\">\n",
              "      <th></th>\n",
              "      <th>사용일자</th>\n",
              "      <th>노선명</th>\n",
              "      <th>역명</th>\n",
              "      <th>승차총승객수</th>\n",
              "      <th>하차총승객수</th>\n",
              "      <th>등록일자</th>\n",
              "    </tr>\n",
              "  </thead>\n",
              "  <tbody>\n",
              "    <tr>\n",
              "      <th>0</th>\n",
              "      <td>20210701</td>\n",
              "      <td>20</td>\n",
              "      <td>왕십리(성동구청)</td>\n",
              "      <td>13591</td>\n",
              "      <td>15315</td>\n",
              "      <td>20210704</td>\n",
              "    </tr>\n",
              "    <tr>\n",
              "      <th>1</th>\n",
              "      <td>20210701</td>\n",
              "      <td>5</td>\n",
              "      <td>왕십리(성동구청)</td>\n",
              "      <td>4636</td>\n",
              "      <td>5043</td>\n",
              "      <td>20210704</td>\n",
              "    </tr>\n",
              "    <tr>\n",
              "      <th>2</th>\n",
              "      <td>20210702</td>\n",
              "      <td>20</td>\n",
              "      <td>왕십리(성동구청)</td>\n",
              "      <td>14551</td>\n",
              "      <td>16455</td>\n",
              "      <td>20210705</td>\n",
              "    </tr>\n",
              "    <tr>\n",
              "      <th>3</th>\n",
              "      <td>20210702</td>\n",
              "      <td>5</td>\n",
              "      <td>왕십리(성동구청)</td>\n",
              "      <td>4889</td>\n",
              "      <td>5416</td>\n",
              "      <td>20210705</td>\n",
              "    </tr>\n",
              "    <tr>\n",
              "      <th>4</th>\n",
              "      <td>20210703</td>\n",
              "      <td>20</td>\n",
              "      <td>왕십리(성동구청)</td>\n",
              "      <td>10935</td>\n",
              "      <td>12689</td>\n",
              "      <td>20210706</td>\n",
              "    </tr>\n",
              "  </tbody>\n",
              "</table>\n",
              "</div>"
            ],
            "text/plain": [
              "       사용일자  노선명         역명  승차총승객수  하차총승객수      등록일자\n",
              "0  20210701   20  왕십리(성동구청)   13591   15315  20210704\n",
              "1  20210701    5  왕십리(성동구청)    4636    5043  20210704\n",
              "2  20210702   20  왕십리(성동구청)   14551   16455  20210705\n",
              "3  20210702    5  왕십리(성동구청)    4889    5416  20210705\n",
              "4  20210703   20  왕십리(성동구청)   10935   12689  20210706"
            ]
          },
          "metadata": {},
          "execution_count": 3
        }
      ]
    },
    {
      "cell_type": "markdown",
      "source": [
        "# **Logistic Regression**"
      ],
      "metadata": {
        "id": "FaHvWqkzKN-k"
      }
    },
    {
      "cell_type": "code",
      "source": [
        "from sklearn.linear_model import LogisticRegression\n",
        "\n",
        "# 입력 데이터\n",
        "input_data = data[['승차총승객수','하차총승객수']].to_numpy()\n",
        "print(\"input_data shape : \",input_data.shape)\n",
        "y_label = data['노선명'].to_numpy()\n",
        "print(\"y_label shape : \",y_label.shape)"
      ],
      "metadata": {
        "colab": {
          "base_uri": "https://localhost:8080/"
        },
        "id": "p-EuZOMsKFza",
        "outputId": "559b3493-9262-45b7-c716-0d510cc2c617"
      },
      "execution_count": 4,
      "outputs": [
        {
          "output_type": "stream",
          "name": "stdout",
          "text": [
            "input_data shape :  (62, 2)\n",
            "y_label shape :  (62,)\n"
          ]
        }
      ]
    },
    {
      "cell_type": "code",
      "source": [
        "model = LogisticRegression()\n",
        "model.fit(input_data,y_label)"
      ],
      "metadata": {
        "colab": {
          "base_uri": "https://localhost:8080/"
        },
        "id": "_ilFiBYEKh6F",
        "outputId": "cbed7e34-8b6c-4ee9-8df5-2a4abb63f569"
      },
      "execution_count": 5,
      "outputs": [
        {
          "output_type": "execute_result",
          "data": {
            "text/plain": [
              "LogisticRegression()"
            ]
          },
          "metadata": {},
          "execution_count": 5
        }
      ]
    },
    {
      "cell_type": "code",
      "source": [
        "# 모델의 점수\n",
        "print(\"모델의 점수:\", model.score(input_data,y_label))"
      ],
      "metadata": {
        "colab": {
          "base_uri": "https://localhost:8080/"
        },
        "id": "dx9u0oDtKuXB",
        "outputId": "d8aa24a3-214c-4c27-e765-6c3e37bf3274"
      },
      "execution_count": 6,
      "outputs": [
        {
          "output_type": "execute_result",
          "data": {
            "text/plain": [
              "1.0"
            ]
          },
          "metadata": {},
          "execution_count": 6
        }
      ]
    },
    {
      "cell_type": "code",
      "source": [
        "# 10000과 10000을 각각의 입력값으로\n",
        "input = np.array([10000,10000])\n",
        "print(\"[10000,10000] 예측 값:\", model.predict([input]))"
      ],
      "metadata": {
        "colab": {
          "base_uri": "https://localhost:8080/"
        },
        "id": "lWzqYYFcK3qt",
        "outputId": "b0478f7e-a7d7-4588-b932-14b52e910f40"
      },
      "execution_count": 7,
      "outputs": [
        {
          "output_type": "stream",
          "name": "stdout",
          "text": [
            "[10000,10000] 예측 값: [20]\n"
          ]
        }
      ]
    }
  ]
}