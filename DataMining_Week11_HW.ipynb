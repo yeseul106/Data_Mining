{
  "nbformat": 4,
  "nbformat_minor": 0,
  "metadata": {
    "colab": {
      "name": "DataMining_Week11_HW.ipynb",
      "provenance": [],
      "collapsed_sections": [],
      "authorship_tag": "ABX9TyMuWLjf8Q0Uv3I+I9KLcxs5",
      "include_colab_link": true
    },
    "kernelspec": {
      "name": "python3",
      "display_name": "Python 3"
    },
    "language_info": {
      "name": "python"
    }
  },
  "cells": [
    {
      "cell_type": "markdown",
      "metadata": {
        "id": "view-in-github",
        "colab_type": "text"
      },
      "source": [
        "<a href=\"https://colab.research.google.com/github/yeseul106/Data_Mining/blob/main/DataMining_Week11_HW.ipynb\" target=\"_parent\"><img src=\"https://colab.research.google.com/assets/colab-badge.svg\" alt=\"Open In Colab\"/></a>"
      ]
    },
    {
      "cell_type": "code",
      "metadata": {
        "id": "hBgOrevAjc02"
      },
      "source": [
        "import numpy as np\n",
        "import pandas as pd"
      ],
      "execution_count": 1,
      "outputs": []
    },
    {
      "cell_type": "code",
      "metadata": {
        "colab": {
          "base_uri": "https://localhost:8080/"
        },
        "id": "G1rVnnitkHkz",
        "outputId": "be4ad9b0-8e5d-46d6-a428-0e268b091252"
      },
      "source": [
        "# 구글 드라이브 연결\n",
        "from google.colab import drive\n",
        "drive.mount('/content/drive')"
      ],
      "execution_count": 3,
      "outputs": [
        {
          "output_type": "stream",
          "name": "stdout",
          "text": [
            "Drive already mounted at /content/drive; to attempt to forcibly remount, call drive.mount(\"/content/drive\", force_remount=True).\n"
          ]
        }
      ]
    },
    {
      "cell_type": "code",
      "metadata": {
        "colab": {
          "base_uri": "https://localhost:8080/",
          "height": 329
        },
        "id": "x2IDnFtnkJ3b",
        "outputId": "f9aa5fa2-8a2e-4287-dc03-1d0dbf61f7e0"
      },
      "source": [
        "# student_health csv 파일 읽어오기\n",
        "student_health = pd.read_csv('/content/drive/MyDrive/강의/데이터마이닝 수업/student_health_3.csv', encoding='cp949')\n",
        "print(student_health.shape)\n",
        "student_health.head(5)"
      ],
      "execution_count": 4,
      "outputs": [
        {
          "output_type": "stream",
          "name": "stdout",
          "text": [
            "(1125, 25)\n"
          ]
        },
        {
          "output_type": "execute_result",
          "data": {
            "text/html": [
              "<div>\n",
              "<style scoped>\n",
              "    .dataframe tbody tr th:only-of-type {\n",
              "        vertical-align: middle;\n",
              "    }\n",
              "\n",
              "    .dataframe tbody tr th {\n",
              "        vertical-align: top;\n",
              "    }\n",
              "\n",
              "    .dataframe thead th {\n",
              "        text-align: right;\n",
              "    }\n",
              "</style>\n",
              "<table border=\"1\" class=\"dataframe\">\n",
              "  <thead>\n",
              "    <tr style=\"text-align: right;\">\n",
              "      <th></th>\n",
              "      <th>ID</th>\n",
              "      <th>최종가중치</th>\n",
              "      <th>학교ID</th>\n",
              "      <th>도시규모</th>\n",
              "      <th>도시규모별분석용</th>\n",
              "      <th>학년도</th>\n",
              "      <th>광역시도</th>\n",
              "      <th>시도별</th>\n",
              "      <th>학교급별</th>\n",
              "      <th>학교명</th>\n",
              "      <th>공학여부</th>\n",
              "      <th>학년</th>\n",
              "      <th>반</th>\n",
              "      <th>성별</th>\n",
              "      <th>건강검진일</th>\n",
              "      <th>키</th>\n",
              "      <th>몸무게</th>\n",
              "      <th>혈당식전mgdl</th>\n",
              "      <th>총콜레스테롤mgdl</th>\n",
              "      <th>ASTUL</th>\n",
              "      <th>ALTUL</th>\n",
              "      <th>혈색소gdl</th>\n",
              "      <th>간염검사</th>\n",
              "      <th>수축기</th>\n",
              "      <th>이완기</th>\n",
              "    </tr>\n",
              "  </thead>\n",
              "  <tbody>\n",
              "    <tr>\n",
              "      <th>0</th>\n",
              "      <td>Aa011남10101</td>\n",
              "      <td>169.550665</td>\n",
              "      <td>Aa01</td>\n",
              "      <td>대도시/중소도시</td>\n",
              "      <td>특별/광역시</td>\n",
              "      <td>2015</td>\n",
              "      <td>서울</td>\n",
              "      <td>서울특별시교육청</td>\n",
              "      <td>1</td>\n",
              "      <td>서울대도초등학교</td>\n",
              "      <td>남여공학</td>\n",
              "      <td>1</td>\n",
              "      <td>1</td>\n",
              "      <td>남</td>\n",
              "      <td>2015-05-12</td>\n",
              "      <td>125.8</td>\n",
              "      <td>27.3</td>\n",
              "      <td>NaN</td>\n",
              "      <td>NaN</td>\n",
              "      <td>NaN</td>\n",
              "      <td>NaN</td>\n",
              "      <td>NaN</td>\n",
              "      <td>NaN</td>\n",
              "      <td>77</td>\n",
              "      <td>58</td>\n",
              "    </tr>\n",
              "    <tr>\n",
              "      <th>1</th>\n",
              "      <td>Aa011남10102</td>\n",
              "      <td>169.550665</td>\n",
              "      <td>Aa01</td>\n",
              "      <td>대도시/중소도시</td>\n",
              "      <td>특별/광역시</td>\n",
              "      <td>2015</td>\n",
              "      <td>서울</td>\n",
              "      <td>서울특별시교육청</td>\n",
              "      <td>1</td>\n",
              "      <td>서울대도초등학교</td>\n",
              "      <td>남여공학</td>\n",
              "      <td>1</td>\n",
              "      <td>1</td>\n",
              "      <td>남</td>\n",
              "      <td>2015-04-22</td>\n",
              "      <td>124.3</td>\n",
              "      <td>25.4</td>\n",
              "      <td>NaN</td>\n",
              "      <td>NaN</td>\n",
              "      <td>NaN</td>\n",
              "      <td>NaN</td>\n",
              "      <td>NaN</td>\n",
              "      <td>NaN</td>\n",
              "      <td>83</td>\n",
              "      <td>51</td>\n",
              "    </tr>\n",
              "    <tr>\n",
              "      <th>2</th>\n",
              "      <td>Aa011남10103</td>\n",
              "      <td>169.550665</td>\n",
              "      <td>Aa01</td>\n",
              "      <td>대도시/중소도시</td>\n",
              "      <td>특별/광역시</td>\n",
              "      <td>2015</td>\n",
              "      <td>서울</td>\n",
              "      <td>서울특별시교육청</td>\n",
              "      <td>1</td>\n",
              "      <td>서울대도초등학교</td>\n",
              "      <td>남여공학</td>\n",
              "      <td>1</td>\n",
              "      <td>1</td>\n",
              "      <td>남</td>\n",
              "      <td>2015-04-21</td>\n",
              "      <td>119.2</td>\n",
              "      <td>23.5</td>\n",
              "      <td>NaN</td>\n",
              "      <td>NaN</td>\n",
              "      <td>NaN</td>\n",
              "      <td>NaN</td>\n",
              "      <td>NaN</td>\n",
              "      <td>NaN</td>\n",
              "      <td>103</td>\n",
              "      <td>65</td>\n",
              "    </tr>\n",
              "    <tr>\n",
              "      <th>3</th>\n",
              "      <td>Aa011남10104</td>\n",
              "      <td>169.550665</td>\n",
              "      <td>Aa01</td>\n",
              "      <td>대도시/중소도시</td>\n",
              "      <td>특별/광역시</td>\n",
              "      <td>2015</td>\n",
              "      <td>서울</td>\n",
              "      <td>서울특별시교육청</td>\n",
              "      <td>1</td>\n",
              "      <td>서울대도초등학교</td>\n",
              "      <td>남여공학</td>\n",
              "      <td>1</td>\n",
              "      <td>1</td>\n",
              "      <td>남</td>\n",
              "      <td>2015-04-21</td>\n",
              "      <td>115.0</td>\n",
              "      <td>20.0</td>\n",
              "      <td>NaN</td>\n",
              "      <td>NaN</td>\n",
              "      <td>NaN</td>\n",
              "      <td>NaN</td>\n",
              "      <td>NaN</td>\n",
              "      <td>NaN</td>\n",
              "      <td>92</td>\n",
              "      <td>66</td>\n",
              "    </tr>\n",
              "    <tr>\n",
              "      <th>4</th>\n",
              "      <td>Aa011남10105</td>\n",
              "      <td>169.550665</td>\n",
              "      <td>Aa01</td>\n",
              "      <td>대도시/중소도시</td>\n",
              "      <td>특별/광역시</td>\n",
              "      <td>2015</td>\n",
              "      <td>서울</td>\n",
              "      <td>서울특별시교육청</td>\n",
              "      <td>1</td>\n",
              "      <td>서울대도초등학교</td>\n",
              "      <td>남여공학</td>\n",
              "      <td>1</td>\n",
              "      <td>1</td>\n",
              "      <td>남</td>\n",
              "      <td>2015-04-23</td>\n",
              "      <td>120.0</td>\n",
              "      <td>33.5</td>\n",
              "      <td>NaN</td>\n",
              "      <td>NaN</td>\n",
              "      <td>NaN</td>\n",
              "      <td>NaN</td>\n",
              "      <td>NaN</td>\n",
              "      <td>NaN</td>\n",
              "      <td>102</td>\n",
              "      <td>59</td>\n",
              "    </tr>\n",
              "  </tbody>\n",
              "</table>\n",
              "</div>"
            ],
            "text/plain": [
              "            ID       최종가중치  학교ID      도시규모  ... 혈색소gdl  간염검사  수축기 이완기\n",
              "0  Aa011남10101  169.550665  Aa01  대도시/중소도시  ...    NaN   NaN   77  58\n",
              "1  Aa011남10102  169.550665  Aa01  대도시/중소도시  ...    NaN   NaN   83  51\n",
              "2  Aa011남10103  169.550665  Aa01  대도시/중소도시  ...    NaN   NaN  103  65\n",
              "3  Aa011남10104  169.550665  Aa01  대도시/중소도시  ...    NaN   NaN   92  66\n",
              "4  Aa011남10105  169.550665  Aa01  대도시/중소도시  ...    NaN   NaN  102  59\n",
              "\n",
              "[5 rows x 25 columns]"
            ]
          },
          "metadata": {},
          "execution_count": 4
        }
      ]
    },
    {
      "cell_type": "code",
      "metadata": {
        "colab": {
          "base_uri": "https://localhost:8080/"
        },
        "id": "2KHU3w22kTga",
        "outputId": "0c691343-eb55-42f6-c3ea-544ec32ca15c"
      },
      "source": [
        "# 키와 몸무게를 가지고 학년을 예측\n",
        "# 학년의 범위를 파악\n",
        "student_health['학교명'].unique()"
      ],
      "execution_count": 5,
      "outputs": [
        {
          "output_type": "execute_result",
          "data": {
            "text/plain": [
              "array(['서울대도초등학교', '서울은빛초등학교', '서울구일초등학교', '서울길원초등학교', '서울원촌초등학교',\n",
              "       '서울면동초등학교', '서울성내초등학교', '서울구산초등학교', '서울강명초등학교', '서울삼전초등학교',\n",
              "       '서울난향초등학교', '서울천호초등학교', '서울독산초등학교', '서울쌍문초등학교', '서울영원초등학교',\n",
              "       '경기초등학교', '서울가원초등학교', '서울중목초등학교', '서울신구초등학교', '서울월천초등학교',\n",
              "       '서울삼광초등학교', '서울백산초등학교', '서울창천초등학교'], dtype=object)"
            ]
          },
          "metadata": {},
          "execution_count": 5
        }
      ]
    },
    {
      "cell_type": "markdown",
      "metadata": {
        "id": "Bi5sh_BPkb12"
      },
      "source": [
        "**모든 데이터의 학교가 초등학교만 있음을 확인.**"
      ]
    },
    {
      "cell_type": "code",
      "metadata": {
        "colab": {
          "base_uri": "https://localhost:8080/"
        },
        "id": "gRUZXMYPkZE5",
        "outputId": "1ebed2e8-dfe0-4366-c61a-8ff808e0a2c3"
      },
      "source": [
        "# 초등학교 1학년과 4학년 두가지만 존재하는 것을 확인\n",
        "student_health['학년'].value_counts()"
      ],
      "execution_count": 6,
      "outputs": [
        {
          "output_type": "execute_result",
          "data": {
            "text/plain": [
              "4    569\n",
              "1    556\n",
              "Name: 학년, dtype: int64"
            ]
          },
          "metadata": {},
          "execution_count": 6
        }
      ]
    },
    {
      "cell_type": "code",
      "metadata": {
        "colab": {
          "base_uri": "https://localhost:8080/",
          "height": 225
        },
        "id": "L7Nw07fxkcLP",
        "outputId": "2df58c3e-6360-4d7d-b137-d6f37f50c59a"
      },
      "source": [
        "#학년을 예측할 때 필요한 feature만 정리 (수축기, 이완기, 키, 몸무게)\n",
        "student_data = pd.DataFrame(student_health, columns=['키', '몸무게','수축기', '이완기', '학년'])\n",
        "print(\"student_data의 shape : \",student_data.shape)\n",
        "student_data.head(5)"
      ],
      "execution_count": 7,
      "outputs": [
        {
          "output_type": "stream",
          "name": "stdout",
          "text": [
            "student_data의 shape :  (1125, 5)\n"
          ]
        },
        {
          "output_type": "execute_result",
          "data": {
            "text/html": [
              "<div>\n",
              "<style scoped>\n",
              "    .dataframe tbody tr th:only-of-type {\n",
              "        vertical-align: middle;\n",
              "    }\n",
              "\n",
              "    .dataframe tbody tr th {\n",
              "        vertical-align: top;\n",
              "    }\n",
              "\n",
              "    .dataframe thead th {\n",
              "        text-align: right;\n",
              "    }\n",
              "</style>\n",
              "<table border=\"1\" class=\"dataframe\">\n",
              "  <thead>\n",
              "    <tr style=\"text-align: right;\">\n",
              "      <th></th>\n",
              "      <th>키</th>\n",
              "      <th>몸무게</th>\n",
              "      <th>수축기</th>\n",
              "      <th>이완기</th>\n",
              "      <th>학년</th>\n",
              "    </tr>\n",
              "  </thead>\n",
              "  <tbody>\n",
              "    <tr>\n",
              "      <th>0</th>\n",
              "      <td>125.8</td>\n",
              "      <td>27.3</td>\n",
              "      <td>77</td>\n",
              "      <td>58</td>\n",
              "      <td>1</td>\n",
              "    </tr>\n",
              "    <tr>\n",
              "      <th>1</th>\n",
              "      <td>124.3</td>\n",
              "      <td>25.4</td>\n",
              "      <td>83</td>\n",
              "      <td>51</td>\n",
              "      <td>1</td>\n",
              "    </tr>\n",
              "    <tr>\n",
              "      <th>2</th>\n",
              "      <td>119.2</td>\n",
              "      <td>23.5</td>\n",
              "      <td>103</td>\n",
              "      <td>65</td>\n",
              "      <td>1</td>\n",
              "    </tr>\n",
              "    <tr>\n",
              "      <th>3</th>\n",
              "      <td>115.0</td>\n",
              "      <td>20.0</td>\n",
              "      <td>92</td>\n",
              "      <td>66</td>\n",
              "      <td>1</td>\n",
              "    </tr>\n",
              "    <tr>\n",
              "      <th>4</th>\n",
              "      <td>120.0</td>\n",
              "      <td>33.5</td>\n",
              "      <td>102</td>\n",
              "      <td>59</td>\n",
              "      <td>1</td>\n",
              "    </tr>\n",
              "  </tbody>\n",
              "</table>\n",
              "</div>"
            ],
            "text/plain": [
              "       키   몸무게  수축기  이완기  학년\n",
              "0  125.8  27.3   77   58   1\n",
              "1  124.3  25.4   83   51   1\n",
              "2  119.2  23.5  103   65   1\n",
              "3  115.0  20.0   92   66   1\n",
              "4  120.0  33.5  102   59   1"
            ]
          },
          "metadata": {},
          "execution_count": 7
        }
      ]
    },
    {
      "cell_type": "markdown",
      "metadata": {
        "id": "x1MNMHZbmAnT"
      },
      "source": [
        "# **MLPClassifier**"
      ]
    },
    {
      "cell_type": "code",
      "metadata": {
        "colab": {
          "base_uri": "https://localhost:8080/"
        },
        "id": "-j1qsMCplFHI",
        "outputId": "7553fefb-9ed1-47e2-e653-0997dad89f40"
      },
      "source": [
        "student_data.loc[0,:] # 열의 인덱스가 헤더를 제외하고 0부터 잘 들어가있음."
      ],
      "execution_count": 8,
      "outputs": [
        {
          "output_type": "execute_result",
          "data": {
            "text/plain": [
              "키      125.8\n",
              "몸무게     27.3\n",
              "수축기     77.0\n",
              "이완기     58.0\n",
              "학년       1.0\n",
              "Name: 0, dtype: float64"
            ]
          },
          "metadata": {},
          "execution_count": 8
        }
      ]
    },
    {
      "cell_type": "code",
      "metadata": {
        "colab": {
          "base_uri": "https://localhost:8080/"
        },
        "id": "1yyijil7mOfN",
        "outputId": "db2b18c9-6f33-408d-9db8-d5b2c7cd1c0f"
      },
      "source": [
        "from sklearn.neural_network import MLPClassifier\n",
        "from sklearn.model_selection import train_test_split\n",
        "\n",
        "\n",
        "# 입력 데이터\n",
        "input_data = student_data[['키', '몸무게','수축기', '이완기']].to_numpy()\n",
        "print(\"input_data shape : \",input_data.shape)\n",
        "y_label = student_data['학년'].to_numpy()\n",
        "print(\"y_label shape : \",y_label.shape)\n",
        "\n",
        "x_train, x_test, y_train, y_test = train_test_split(input_data,y_label,random_state=1)\n",
        "print(\"x_train shape : \",x_train.shape)\n",
        "print(\"x_test shape : \",x_test.shape)\n",
        "print(\"y_train shape : \",y_train.shape)\n",
        "print(\"y_test shape : \",y_test.shape)"
      ],
      "execution_count": 9,
      "outputs": [
        {
          "output_type": "stream",
          "name": "stdout",
          "text": [
            "input_data shape :  (1125, 4)\n",
            "y_label shape :  (1125,)\n",
            "x_train shape :  (843, 4)\n",
            "x_test shape :  (282, 4)\n",
            "y_train shape :  (843,)\n",
            "y_test shape :  (282,)\n"
          ]
        }
      ]
    },
    {
      "cell_type": "code",
      "metadata": {
        "id": "0XoDLitTpUCN"
      },
      "source": [
        "model = MLPClassifier(random_state=1, max_iter =300).fit(x_train,y_train)"
      ],
      "execution_count": 10,
      "outputs": []
    },
    {
      "cell_type": "code",
      "metadata": {
        "colab": {
          "base_uri": "https://localhost:8080/"
        },
        "id": "kAprK-ChphBT",
        "outputId": "28e26950-4b2f-4ebd-d541-95f788d13089"
      },
      "source": [
        "# 처음 40개 샘플 예측 (훈련 데이터)\n",
        "print(\"예측 값:\", model.predict(x_train[:40]))\n",
        "print(\"실제 값:\", y_train[:40])"
      ],
      "execution_count": 11,
      "outputs": [
        {
          "output_type": "stream",
          "name": "stdout",
          "text": [
            "예측 값: [4 1 1 1 4 1 4 4 1 4 4 4 1 1 4 4 4 1 4 1 1 1 4 4 4 1 1 4 4 4 4 4 4 4 4 1 4\n",
            " 1 4 1]\n",
            "실제 값: [4 4 1 1 4 1 1 4 1 4 4 4 1 1 4 4 4 1 4 4 1 1 4 1 1 4 1 1 4 4 4 4 1 4 4 1 4\n",
            " 4 4 1]\n"
          ]
        }
      ]
    },
    {
      "cell_type": "code",
      "metadata": {
        "colab": {
          "base_uri": "https://localhost:8080/"
        },
        "id": "g1CIbNOmCy-R",
        "outputId": "de470713-48cf-4c5d-f11a-454df0c58874"
      },
      "source": [
        "\n",
        "# 처음 40개 샘플 예측 (테스트 데이터)\n",
        "print(\"예측 값:\", model.predict(x_test[:40]))\n",
        "print(\"실제 값:\", y_test[:40])"
      ],
      "execution_count": 13,
      "outputs": [
        {
          "output_type": "stream",
          "name": "stdout",
          "text": [
            "예측 값: [4 4 4 4 4 4 4 4 1 4 4 1 4 4 4 4 4 1 1 1 1 1 1 4 4 4 1 4 4 4 1 4 4 4 4 4 4\n",
            " 4 4 4]\n",
            "실제 값: [1 4 4 4 1 4 1 4 1 4 4 1 1 1 4 1 1 1 1 1 1 1 1 4 4 4 1 4 4 4 1 4 4 4 4 1 4\n",
            " 4 4 1]\n"
          ]
        }
      ]
    },
    {
      "cell_type": "code",
      "metadata": {
        "id": "18aBK5ixp3aF"
      },
      "source": [
        "# # 예측한 값을 새로운 열로 추가하기\n",
        "# student_data['예측한 학년'] = model.predict(input_data[:])\n",
        "# student_data"
      ],
      "execution_count": 14,
      "outputs": []
    },
    {
      "cell_type": "code",
      "metadata": {
        "colab": {
          "base_uri": "https://localhost:8080/"
        },
        "id": "ScGUrzRTqpIT",
        "outputId": "77fcfc07-05c2-42b7-8fb4-7551f0b4a855"
      },
      "source": [
        "# 처음 10개 샘플의 예측 확률 (훈련 데이터)\n",
        "model.predict_proba(x_train[:10])"
      ],
      "execution_count": 15,
      "outputs": [
        {
          "output_type": "execute_result",
          "data": {
            "text/plain": [
              "array([[8.07969393e-04, 9.99192031e-01],\n",
              "       [7.30550298e-01, 2.69449702e-01],\n",
              "       [8.39364583e-01, 1.60635417e-01],\n",
              "       [7.09414361e-01, 2.90585639e-01],\n",
              "       [6.50057456e-02, 9.34994254e-01],\n",
              "       [8.65148406e-01, 1.34851594e-01],\n",
              "       [1.96722898e-01, 8.03277102e-01],\n",
              "       [3.04418188e-01, 6.95581812e-01],\n",
              "       [7.49469175e-01, 2.50530825e-01],\n",
              "       [2.45418868e-01, 7.54581132e-01]])"
            ]
          },
          "metadata": {},
          "execution_count": 15
        }
      ]
    },
    {
      "cell_type": "code",
      "metadata": {
        "colab": {
          "base_uri": "https://localhost:8080/"
        },
        "id": "d4piQe4YDCpZ",
        "outputId": "0e874c63-b4b2-4f88-872a-de7eb87c2e16"
      },
      "source": [
        "# 처음 10개 샘플의 예측 확률 (테스트 데이터)\n",
        "model.predict_proba(x_test[:10])"
      ],
      "execution_count": 16,
      "outputs": [
        {
          "output_type": "execute_result",
          "data": {
            "text/plain": [
              "array([[0.38372029, 0.61627971],\n",
              "       [0.11112157, 0.88887843],\n",
              "       [0.35631473, 0.64368527],\n",
              "       [0.07587877, 0.92412123],\n",
              "       [0.36283258, 0.63716742],\n",
              "       [0.03262351, 0.96737649],\n",
              "       [0.05846724, 0.94153276],\n",
              "       [0.01771652, 0.98228348],\n",
              "       [0.83347193, 0.16652807],\n",
              "       [0.36536664, 0.63463336]])"
            ]
          },
          "metadata": {},
          "execution_count": 16
        }
      ]
    },
    {
      "cell_type": "code",
      "metadata": {
        "colab": {
          "base_uri": "https://localhost:8080/"
        },
        "id": "GrfhZ9Omq4OM",
        "outputId": "bdbeeb78-e947-447f-93ee-282079b77cbf"
      },
      "source": [
        "# 모델의 점수\n",
        "model.score(x_train,y_train)"
      ],
      "execution_count": 19,
      "outputs": [
        {
          "output_type": "execute_result",
          "data": {
            "text/plain": [
              "0.8030842230130486"
            ]
          },
          "metadata": {},
          "execution_count": 19
        }
      ]
    },
    {
      "cell_type": "code",
      "metadata": {
        "colab": {
          "base_uri": "https://localhost:8080/"
        },
        "id": "LX5SAQe7CYyu",
        "outputId": "388eeb85-2977-4b96-c759-8fe1353509d0"
      },
      "source": [
        " # 모델의 점수\n",
        "model.score(x_test,y_test)"
      ],
      "execution_count": 18,
      "outputs": [
        {
          "output_type": "execute_result",
          "data": {
            "text/plain": [
              "0.8049645390070922"
            ]
          },
          "metadata": {},
          "execution_count": 18
        }
      ]
    }
  ]
}