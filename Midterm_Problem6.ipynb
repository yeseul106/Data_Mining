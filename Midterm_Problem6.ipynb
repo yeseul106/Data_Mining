{
  "nbformat": 4,
  "nbformat_minor": 0,
  "metadata": {
    "colab": {
      "name": "Midterm_Problem6.ipynb",
      "provenance": [],
      "authorship_tag": "ABX9TyMhQXQidBemES1oVWgJbXxI",
      "include_colab_link": true
    },
    "kernelspec": {
      "name": "python3",
      "display_name": "Python 3"
    },
    "language_info": {
      "name": "python"
    }
  },
  "cells": [
    {
      "cell_type": "markdown",
      "metadata": {
        "id": "view-in-github",
        "colab_type": "text"
      },
      "source": [
        "<a href=\"https://colab.research.google.com/github/yeseul106/Data_Mining/blob/main/Midterm_Problem6.ipynb\" target=\"_parent\"><img src=\"https://colab.research.google.com/assets/colab-badge.svg\" alt=\"Open In Colab\"/></a>"
      ]
    },
    {
      "cell_type": "code",
      "metadata": {
        "id": "Zd4aozfHBkK4"
      },
      "source": [
        "import numpy as np\n",
        "import pandas as pd"
      ],
      "execution_count": null,
      "outputs": []
    },
    {
      "cell_type": "code",
      "metadata": {
        "colab": {
          "base_uri": "https://localhost:8080/"
        },
        "id": "vEapnhj1BqZo",
        "outputId": "31ef691f-bc4f-4171-ce27-76dbc6db71a2"
      },
      "source": [
        "# 구글 드라이브 연결\n",
        "from google.colab import drive\n",
        "drive.mount('/content/drive')"
      ],
      "execution_count": null,
      "outputs": [
        {
          "output_type": "stream",
          "name": "stdout",
          "text": [
            "Mounted at /content/drive\n"
          ]
        }
      ]
    },
    {
      "cell_type": "code",
      "metadata": {
        "colab": {
          "base_uri": "https://localhost:8080/",
          "height": 780
        },
        "id": "kXiCDi_oBtwM",
        "outputId": "c68adccd-63f7-45a9-a56a-adafaf55408f"
      },
      "source": [
        "# subway.csv 파일 읽어오기\n",
        "subway = pd.read_csv('/content/drive/MyDrive/강의/데이터마이닝 수업/subway.csv', encoding='cp949')\n",
        "print(subway.shape)\n",
        "subway"
      ],
      "execution_count": null,
      "outputs": [
        {
          "output_type": "stream",
          "name": "stdout",
          "text": [
            "(23, 2)\n"
          ]
        },
        {
          "output_type": "execute_result",
          "data": {
            "text/html": [
              "<div>\n",
              "<style scoped>\n",
              "    .dataframe tbody tr th:only-of-type {\n",
              "        vertical-align: middle;\n",
              "    }\n",
              "\n",
              "    .dataframe tbody tr th {\n",
              "        vertical-align: top;\n",
              "    }\n",
              "\n",
              "    .dataframe thead th {\n",
              "        text-align: right;\n",
              "    }\n",
              "</style>\n",
              "<table border=\"1\" class=\"dataframe\">\n",
              "  <thead>\n",
              "    <tr style=\"text-align: right;\">\n",
              "      <th></th>\n",
              "      <th>Year</th>\n",
              "      <th>Line 3</th>\n",
              "    </tr>\n",
              "  </thead>\n",
              "  <tbody>\n",
              "    <tr>\n",
              "      <th>0</th>\n",
              "      <td>2016</td>\n",
              "      <td>287363289</td>\n",
              "    </tr>\n",
              "    <tr>\n",
              "      <th>1</th>\n",
              "      <td>2015</td>\n",
              "      <td>286360778</td>\n",
              "    </tr>\n",
              "    <tr>\n",
              "      <th>2</th>\n",
              "      <td>2014</td>\n",
              "      <td>293775202</td>\n",
              "    </tr>\n",
              "    <tr>\n",
              "      <th>3</th>\n",
              "      <td>2013</td>\n",
              "      <td>289692822</td>\n",
              "    </tr>\n",
              "    <tr>\n",
              "      <th>4</th>\n",
              "      <td>2012</td>\n",
              "      <td>286036938</td>\n",
              "    </tr>\n",
              "    <tr>\n",
              "      <th>5</th>\n",
              "      <td>2011</td>\n",
              "      <td>282997903</td>\n",
              "    </tr>\n",
              "    <tr>\n",
              "      <th>6</th>\n",
              "      <td>2010</td>\n",
              "      <td>275466721</td>\n",
              "    </tr>\n",
              "    <tr>\n",
              "      <th>7</th>\n",
              "      <td>2009</td>\n",
              "      <td>257501239</td>\n",
              "    </tr>\n",
              "    <tr>\n",
              "      <th>8</th>\n",
              "      <td>2008</td>\n",
              "      <td>256547773</td>\n",
              "    </tr>\n",
              "    <tr>\n",
              "      <th>9</th>\n",
              "      <td>2007</td>\n",
              "      <td>256172707</td>\n",
              "    </tr>\n",
              "    <tr>\n",
              "      <th>10</th>\n",
              "      <td>2006</td>\n",
              "      <td>257543491</td>\n",
              "    </tr>\n",
              "    <tr>\n",
              "      <th>11</th>\n",
              "      <td>2005</td>\n",
              "      <td>259165710</td>\n",
              "    </tr>\n",
              "    <tr>\n",
              "      <th>12</th>\n",
              "      <td>2004</td>\n",
              "      <td>265398537</td>\n",
              "    </tr>\n",
              "    <tr>\n",
              "      <th>13</th>\n",
              "      <td>2003</td>\n",
              "      <td>263872678</td>\n",
              "    </tr>\n",
              "    <tr>\n",
              "      <th>14</th>\n",
              "      <td>1999</td>\n",
              "      <td>227610899</td>\n",
              "    </tr>\n",
              "    <tr>\n",
              "      <th>15</th>\n",
              "      <td>1998</td>\n",
              "      <td>234009772</td>\n",
              "    </tr>\n",
              "    <tr>\n",
              "      <th>16</th>\n",
              "      <td>1997</td>\n",
              "      <td>247367918</td>\n",
              "    </tr>\n",
              "    <tr>\n",
              "      <th>17</th>\n",
              "      <td>1996</td>\n",
              "      <td>252824228</td>\n",
              "    </tr>\n",
              "    <tr>\n",
              "      <th>18</th>\n",
              "      <td>1995</td>\n",
              "      <td>226564053</td>\n",
              "    </tr>\n",
              "    <tr>\n",
              "      <th>19</th>\n",
              "      <td>1994</td>\n",
              "      <td>208430560</td>\n",
              "    </tr>\n",
              "    <tr>\n",
              "      <th>20</th>\n",
              "      <td>1993</td>\n",
              "      <td>193672270</td>\n",
              "    </tr>\n",
              "    <tr>\n",
              "      <th>21</th>\n",
              "      <td>1992</td>\n",
              "      <td>189269767</td>\n",
              "    </tr>\n",
              "    <tr>\n",
              "      <th>22</th>\n",
              "      <td>1991</td>\n",
              "      <td>174248221</td>\n",
              "    </tr>\n",
              "  </tbody>\n",
              "</table>\n",
              "</div>"
            ],
            "text/plain": [
              "    Year     Line 3\n",
              "0   2016  287363289\n",
              "1   2015  286360778\n",
              "2   2014  293775202\n",
              "3   2013  289692822\n",
              "4   2012  286036938\n",
              "5   2011  282997903\n",
              "6   2010  275466721\n",
              "7   2009  257501239\n",
              "8   2008  256547773\n",
              "9   2007  256172707\n",
              "10  2006  257543491\n",
              "11  2005  259165710\n",
              "12  2004  265398537\n",
              "13  2003  263872678\n",
              "14  1999  227610899\n",
              "15  1998  234009772\n",
              "16  1997  247367918\n",
              "17  1996  252824228\n",
              "18  1995  226564053\n",
              "19  1994  208430560\n",
              "20  1993  193672270\n",
              "21  1992  189269767\n",
              "22  1991  174248221"
            ]
          },
          "metadata": {},
          "execution_count": 4
        }
      ]
    },
    {
      "cell_type": "code",
      "metadata": {
        "colab": {
          "base_uri": "https://localhost:8080/"
        },
        "id": "VvHRBa6iB_yC",
        "outputId": "59036140-7535-4c32-ea5d-a64194837e2a"
      },
      "source": [
        "# 2000년, 2001년, 2002년 데이터가 존재하지 않음.\n",
        "# 전체적인 데이터 분석을 위해 scatter 그래프 그려보기\n",
        "\n",
        "year = np.array(subway[\"Year\"])\n",
        "line_3 = np.array(subway[\"Line 3\"])\n",
        "# 잘 되었는지 확인\n",
        "print(len(year))\n",
        "print(len(line_3))"
      ],
      "execution_count": null,
      "outputs": [
        {
          "output_type": "stream",
          "name": "stdout",
          "text": [
            "23\n",
            "23\n"
          ]
        }
      ]
    },
    {
      "cell_type": "code",
      "metadata": {
        "colab": {
          "base_uri": "https://localhost:8080/"
        },
        "id": "QNE4XWCxCr2V",
        "outputId": "82e00f18-0b39-424c-c206-62dd841c01ea"
      },
      "source": [
        "print(year[4], line_3[4])"
      ],
      "execution_count": null,
      "outputs": [
        {
          "output_type": "stream",
          "name": "stdout",
          "text": [
            "2012 286036938\n"
          ]
        }
      ]
    },
    {
      "cell_type": "code",
      "metadata": {
        "colab": {
          "base_uri": "https://localhost:8080/",
          "height": 508
        },
        "id": "k9ddnTMmCzJr",
        "outputId": "4dd201e8-0bd4-4122-dff7-278a675bab58"
      },
      "source": [
        "import matplotlib.pyplot as plt\n",
        "\n",
        "plt.figure(figsize=(10,8))\n",
        "plt.scatter(year, line_3)\n",
        "plt.xlabel('year')\n",
        "plt.ylabel('line_3')\n",
        "plt.show()"
      ],
      "execution_count": null,
      "outputs": [
        {
          "output_type": "display_data",
          "data": {
            "image/png": "[encoded data removed]",
            "text/plain": [
              "<Figure size 720x576 with 1 Axes>"
            ]
          },
          "metadata": {
            "needs_background": "light"
          }
        }
      ]
    },
    {
      "cell_type": "code",
      "metadata": {
        "colab": {
          "base_uri": "https://localhost:8080/"
        },
        "id": "ZB44gn_9C7Fo",
        "outputId": "9b7d22e7-f850-4530-c423-6fceb13566f0"
      },
      "source": [
        "# linearRegression 클래스를 이용하여 2000, 2001, 2002년도의 빠진 데이터를 예측\n",
        "from sklearn.linear_model import LinearRegression\n",
        "lr = LinearRegression()\n",
        "\n",
        "# 두 리스트의 shape을 바꿔야함\n",
        "year_arr = year.reshape(-1,1)\n",
        "line_3_arr = line_3.reshape(-1,1)\n",
        "\n",
        "print(year_arr.shape)\n",
        "print(line_3_arr.shape)"
      ],
      "execution_count": null,
      "outputs": [
        {
          "output_type": "stream",
          "name": "stdout",
          "text": [
            "(23, 1)\n",
            "(23, 1)\n"
          ]
        }
      ]
    },
    {
      "cell_type": "code",
      "metadata": {
        "colab": {
          "base_uri": "https://localhost:8080/"
        },
        "id": "-9i1ZjzGENy7",
        "outputId": "58d54c01-33b0-48f3-d694-928c25f1f337"
      },
      "source": [
        "# 선형 회귀 모델을 훈련\n",
        "lr.fit(year_arr,line_3_arr)"
      ],
      "execution_count": null,
      "outputs": [
        {
          "output_type": "execute_result",
          "data": {
            "text/plain": [
              "LinearRegression(copy_X=True, fit_intercept=True, n_jobs=None, normalize=False)"
            ]
          },
          "metadata": {},
          "execution_count": 23
        }
      ]
    },
    {
      "cell_type": "code",
      "metadata": {
        "colab": {
          "base_uri": "https://localhost:8080/"
        },
        "id": "cPcmTZ9hE_TY",
        "outputId": "048997f1-17a0-4ce4-a0cb-a76e5fd85236"
      },
      "source": [
        "# 2000년의 데이터 예측\n",
        "print(\"2000년의 lne_3 : \", lr.predict([[2000]]))\n",
        "print(\"2001년의 lne_3 : \", lr.predict([[2001]]))\n",
        "print(\"2002년의 lne_3 : \", lr.predict([[2002]]))"
      ],
      "execution_count": null,
      "outputs": [
        {
          "output_type": "stream",
          "name": "stdout",
          "text": [
            "2000년의 lne_3 :  [[2.36131195e+08]]\n",
            "2001년의 lne_3 :  [[2.40004786e+08]]\n",
            "2002년의 lne_3 :  [[2.43878377e+08]]\n"
          ]
        }
      ]
    },
    {
      "cell_type": "code",
      "metadata": {
        "colab": {
          "base_uri": "https://localhost:8080/"
        },
        "id": "Bbc4Kw1CHAWd",
        "outputId": "e578f7b5-e61f-4b3f-c5f5-4aaa4cb86a6f"
      },
      "source": [
        "print(lr.coef_, lr.intercept_)"
      ],
      "execution_count": null,
      "outputs": [
        {
          "output_type": "stream",
          "name": "stdout",
          "text": [
            "[[3873590.7978492]] [-7.5110504e+09]\n"
          ]
        }
      ]
    },
    {
      "cell_type": "code",
      "metadata": {
        "colab": {
          "base_uri": "https://localhost:8080/",
          "height": 508
        },
        "id": "9C4cl8BzFNGU",
        "outputId": "869f3c05-8d2c-476d-a23a-0568be351e5b"
      },
      "source": [
        "plt.figure(figsize=(10,8))\n",
        "# 다시 한번 산점도를 그려보자\n",
        "plt.scatter(year,line_3)\n",
        "\n",
        "# 선형 그래프도 그려보자\n",
        "plt.plot([1991,2016], [1991*lr.coef_[0]+lr.intercept_, 2016*lr.coef_[0]+lr.intercept_])\n",
        "\n",
        "# 2000년, 2001년, 20002년 데이터\n",
        "\n",
        "plt.scatter(2000,lr.predict([[2000]]),marker='^')\n",
        "plt.scatter(2001,lr.predict([[2001]]),marker='^')\n",
        "plt.scatter(2002,lr.predict([[2002]]),marker='^')\n",
        "plt.xlabel('year')\n",
        "plt.ylabel('line_3')\n",
        "plt.show()"
      ],
      "execution_count": null,
      "outputs": [
        {
          "output_type": "display_data",
          "data": {
            "image/png": "[encoded data removed]",
            "text/plain": [
              "<Figure size 720x576 with 1 Axes>"
            ]
          },
          "metadata": {
            "needs_background": "light"
          }
        }
      ]
    }
  ]
}