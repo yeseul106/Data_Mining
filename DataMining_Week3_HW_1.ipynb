{
  "nbformat": 4,
  "nbformat_minor": 0,
  "metadata": {
    "colab": {
      "name": "DataMining_Week3_HW_1.ipynb",
      "provenance": [],
      "collapsed_sections": [],
      "authorship_tag": "ABX9TyO4+LwQlKzkQV8717baSiPw",
      "include_colab_link": true
    },
    "kernelspec": {
      "name": "python3",
      "display_name": "Python 3"
    },
    "language_info": {
      "name": "python"
    }
  },
  "cells": [
    {
      "cell_type": "markdown",
      "metadata": {
        "id": "view-in-github",
        "colab_type": "text"
      },
      "source": [
        "<a href=\"https://colab.research.google.com/github/yeseul106/Data_Mining/blob/main/DataMining_Week3_HW_1.ipynb\" target=\"_parent\"><img src=\"https://colab.research.google.com/assets/colab-badge.svg\" alt=\"Open In Colab\"/></a>"
      ]
    },
    {
      "cell_type": "code",
      "metadata": {
        "colab": {
          "base_uri": "https://localhost:8080/"
        },
        "id": "Ng3mo3k0-InH",
        "outputId": "e7b52c2c-90c1-4088-bcbf-aa177515faf5"
      },
      "source": [
        "from google.colab import drive\n",
        "drive.mount('/content/drive')"
      ],
      "execution_count": null,
      "outputs": [
        {
          "output_type": "stream",
          "name": "stdout",
          "text": [
            "Mounted at /content/drive\n"
          ]
        }
      ]
    },
    {
      "cell_type": "code",
      "metadata": {
        "colab": {
          "base_uri": "https://localhost:8080/",
          "height": 206
        },
        "id": "7h7gDlW-8fyr",
        "outputId": "faf3d24b-8e2c-4613-f2cc-45a3fc4c7974"
      },
      "source": [
        "# csv 파일 읽어오기 : 구글 드라이브에서 파일 일기\n",
        "\n",
        "import pandas as pd\n",
        "import numpy as np\n",
        "\n",
        "airPlaneData =  pd.read_csv('/content/drive/MyDrive/데이터마이닝 수업/항공통계.csv', encoding='cp949')\n",
        "airPlaneData.head(5)\n"
      ],
      "execution_count": null,
      "outputs": [
        {
          "output_type": "execute_result",
          "data": {
            "text/html": [
              "<div>\n",
              "<style scoped>\n",
              "    .dataframe tbody tr th:only-of-type {\n",
              "        vertical-align: middle;\n",
              "    }\n",
              "\n",
              "    .dataframe tbody tr th {\n",
              "        vertical-align: top;\n",
              "    }\n",
              "\n",
              "    .dataframe thead th {\n",
              "        text-align: right;\n",
              "    }\n",
              "</style>\n",
              "<table border=\"1\" class=\"dataframe\">\n",
              "  <thead>\n",
              "    <tr style=\"text-align: right;\">\n",
              "      <th></th>\n",
              "      <th>항공노선</th>\n",
              "      <th>LEVEL1</th>\n",
              "      <th>값</th>\n",
              "      <th>년(Annual)</th>\n",
              "      <th>증감</th>\n",
              "      <th>증감율</th>\n",
              "      <th>구성비</th>\n",
              "      <th>누계</th>\n",
              "      <th>누계구성비</th>\n",
              "    </tr>\n",
              "  </thead>\n",
              "  <tbody>\n",
              "    <tr>\n",
              "      <th>0</th>\n",
              "      <td>김포-김해</td>\n",
              "      <td>계</td>\n",
              "      <td>273</td>\n",
              "      <td>2020</td>\n",
              "      <td>273</td>\n",
              "      <td>273</td>\n",
              "      <td>0</td>\n",
              "      <td>0</td>\n",
              "      <td>0</td>\n",
              "    </tr>\n",
              "    <tr>\n",
              "      <th>1</th>\n",
              "      <td>김포-김해</td>\n",
              "      <td>대한항공</td>\n",
              "      <td>63</td>\n",
              "      <td>2020</td>\n",
              "      <td>63</td>\n",
              "      <td>63</td>\n",
              "      <td>0</td>\n",
              "      <td>0</td>\n",
              "      <td>0</td>\n",
              "    </tr>\n",
              "    <tr>\n",
              "      <th>2</th>\n",
              "      <td>김포-김해</td>\n",
              "      <td>아시아나항공</td>\n",
              "      <td>0</td>\n",
              "      <td>2020</td>\n",
              "      <td>0</td>\n",
              "      <td>0</td>\n",
              "      <td>0</td>\n",
              "      <td>0</td>\n",
              "      <td>0</td>\n",
              "    </tr>\n",
              "    <tr>\n",
              "      <th>3</th>\n",
              "      <td>김포-김해</td>\n",
              "      <td>제주항공</td>\n",
              "      <td>43</td>\n",
              "      <td>2020</td>\n",
              "      <td>43</td>\n",
              "      <td>43</td>\n",
              "      <td>0</td>\n",
              "      <td>0</td>\n",
              "      <td>0</td>\n",
              "    </tr>\n",
              "    <tr>\n",
              "      <th>4</th>\n",
              "      <td>김포-김해</td>\n",
              "      <td>진에어</td>\n",
              "      <td>56</td>\n",
              "      <td>2020</td>\n",
              "      <td>56</td>\n",
              "      <td>56</td>\n",
              "      <td>0</td>\n",
              "      <td>0</td>\n",
              "      <td>0</td>\n",
              "    </tr>\n",
              "  </tbody>\n",
              "</table>\n",
              "</div>"
            ],
            "text/plain": [
              "    항공노선  LEVEL1    값  년(Annual)   증감  증감율  구성비  누계  누계구성비\n",
              "0  김포-김해       계  273       2020  273  273    0   0      0\n",
              "1  김포-김해    대한항공   63       2020   63   63    0   0      0\n",
              "2  김포-김해  아시아나항공    0       2020    0    0    0   0      0\n",
              "3  김포-김해    제주항공   43       2020   43   43    0   0      0\n",
              "4  김포-김해     진에어   56       2020   56   56    0   0      0"
            ]
          },
          "metadata": {},
          "execution_count": 23
        }
      ]
    },
    {
      "cell_type": "code",
      "metadata": {
        "colab": {
          "base_uri": "https://localhost:8080/",
          "height": 206
        },
        "id": "qPGNSn_vIlwC",
        "outputId": "e7a652d6-1e55-451a-d9a2-53d6b0aecd06"
      },
      "source": [
        "# 데이터프레임 행 인덱스 제거\n",
        "airPlaneData = airPlaneData.reset_index(drop=True)\n",
        "airPlaneData.head(5)"
      ],
      "execution_count": null,
      "outputs": [
        {
          "output_type": "execute_result",
          "data": {
            "text/html": [
              "<div>\n",
              "<style scoped>\n",
              "    .dataframe tbody tr th:only-of-type {\n",
              "        vertical-align: middle;\n",
              "    }\n",
              "\n",
              "    .dataframe tbody tr th {\n",
              "        vertical-align: top;\n",
              "    }\n",
              "\n",
              "    .dataframe thead th {\n",
              "        text-align: right;\n",
              "    }\n",
              "</style>\n",
              "<table border=\"1\" class=\"dataframe\">\n",
              "  <thead>\n",
              "    <tr style=\"text-align: right;\">\n",
              "      <th></th>\n",
              "      <th>항공노선</th>\n",
              "      <th>LEVEL1</th>\n",
              "      <th>값</th>\n",
              "      <th>년(Annual)</th>\n",
              "      <th>증감</th>\n",
              "      <th>증감율</th>\n",
              "      <th>구성비</th>\n",
              "      <th>누계</th>\n",
              "      <th>누계구성비</th>\n",
              "    </tr>\n",
              "  </thead>\n",
              "  <tbody>\n",
              "    <tr>\n",
              "      <th>0</th>\n",
              "      <td>김포-김해</td>\n",
              "      <td>계</td>\n",
              "      <td>273</td>\n",
              "      <td>2020</td>\n",
              "      <td>273</td>\n",
              "      <td>273</td>\n",
              "      <td>0</td>\n",
              "      <td>0</td>\n",
              "      <td>0</td>\n",
              "    </tr>\n",
              "    <tr>\n",
              "      <th>1</th>\n",
              "      <td>김포-김해</td>\n",
              "      <td>대한항공</td>\n",
              "      <td>63</td>\n",
              "      <td>2020</td>\n",
              "      <td>63</td>\n",
              "      <td>63</td>\n",
              "      <td>0</td>\n",
              "      <td>0</td>\n",
              "      <td>0</td>\n",
              "    </tr>\n",
              "    <tr>\n",
              "      <th>2</th>\n",
              "      <td>김포-김해</td>\n",
              "      <td>아시아나항공</td>\n",
              "      <td>0</td>\n",
              "      <td>2020</td>\n",
              "      <td>0</td>\n",
              "      <td>0</td>\n",
              "      <td>0</td>\n",
              "      <td>0</td>\n",
              "      <td>0</td>\n",
              "    </tr>\n",
              "    <tr>\n",
              "      <th>3</th>\n",
              "      <td>김포-김해</td>\n",
              "      <td>제주항공</td>\n",
              "      <td>43</td>\n",
              "      <td>2020</td>\n",
              "      <td>43</td>\n",
              "      <td>43</td>\n",
              "      <td>0</td>\n",
              "      <td>0</td>\n",
              "      <td>0</td>\n",
              "    </tr>\n",
              "    <tr>\n",
              "      <th>4</th>\n",
              "      <td>김포-김해</td>\n",
              "      <td>진에어</td>\n",
              "      <td>56</td>\n",
              "      <td>2020</td>\n",
              "      <td>56</td>\n",
              "      <td>56</td>\n",
              "      <td>0</td>\n",
              "      <td>0</td>\n",
              "      <td>0</td>\n",
              "    </tr>\n",
              "  </tbody>\n",
              "</table>\n",
              "</div>"
            ],
            "text/plain": [
              "    항공노선  LEVEL1    값  년(Annual)   증감  증감율  구성비  누계  누계구성비\n",
              "0  김포-김해       계  273       2020  273  273    0   0      0\n",
              "1  김포-김해    대한항공   63       2020   63   63    0   0      0\n",
              "2  김포-김해  아시아나항공    0       2020    0    0    0   0      0\n",
              "3  김포-김해    제주항공   43       2020   43   43    0   0      0\n",
              "4  김포-김해     진에어   56       2020   56   56    0   0      0"
            ]
          },
          "metadata": {},
          "execution_count": 24
        }
      ]
    },
    {
      "cell_type": "code",
      "metadata": {
        "colab": {
          "base_uri": "https://localhost:8080/",
          "height": 81
        },
        "id": "vch8_C3r-nNZ",
        "outputId": "b456c20e-5e57-4274-e37c-c5776b7b59c8"
      },
      "source": [
        "# 내륙소계 -> 계 : 모든 내륙노선들의 합\n",
        "inland_sum = airPlaneData[(airPlaneData['LEVEL1']=='계') & (airPlaneData['항공노선']=='내륙소계')]\n",
        "inland_sum"
      ],
      "execution_count": null,
      "outputs": [
        {
          "output_type": "execute_result",
          "data": {
            "text/html": [
              "<div>\n",
              "<style scoped>\n",
              "    .dataframe tbody tr th:only-of-type {\n",
              "        vertical-align: middle;\n",
              "    }\n",
              "\n",
              "    .dataframe tbody tr th {\n",
              "        vertical-align: top;\n",
              "    }\n",
              "\n",
              "    .dataframe thead th {\n",
              "        text-align: right;\n",
              "    }\n",
              "</style>\n",
              "<table border=\"1\" class=\"dataframe\">\n",
              "  <thead>\n",
              "    <tr style=\"text-align: right;\">\n",
              "      <th></th>\n",
              "      <th>항공노선</th>\n",
              "      <th>LEVEL1</th>\n",
              "      <th>값</th>\n",
              "      <th>년(Annual)</th>\n",
              "      <th>증감</th>\n",
              "      <th>증감율</th>\n",
              "      <th>구성비</th>\n",
              "      <th>누계</th>\n",
              "      <th>누계구성비</th>\n",
              "    </tr>\n",
              "  </thead>\n",
              "  <tbody>\n",
              "    <tr>\n",
              "      <th>130</th>\n",
              "      <td>내륙소계</td>\n",
              "      <td>계</td>\n",
              "      <td>489</td>\n",
              "      <td>2020</td>\n",
              "      <td>489</td>\n",
              "      <td>489</td>\n",
              "      <td>0</td>\n",
              "      <td>0</td>\n",
              "      <td>0</td>\n",
              "    </tr>\n",
              "  </tbody>\n",
              "</table>\n",
              "</div>"
            ],
            "text/plain": [
              "     항공노선 LEVEL1    값  년(Annual)   증감  증감율  구성비  누계  누계구성비\n",
              "130  내륙소계      계  489       2020  489  489    0   0      0"
            ]
          },
          "metadata": {},
          "execution_count": 25
        }
      ]
    },
    {
      "cell_type": "code",
      "metadata": {
        "colab": {
          "base_uri": "https://localhost:8080/",
          "height": 81
        },
        "id": "4_s2khy-EdJ5",
        "outputId": "8224046c-b3f0-4688-ce67-71e835ab8927"
      },
      "source": [
        "# 제주소계 -> 계 : 모든 제주노선들의 합\n",
        "jeju_sum = airPlaneData[(airPlaneData['LEVEL1']=='계') & (airPlaneData['항공노선']=='제주소계')]\n",
        "jeju_sum"
      ],
      "execution_count": null,
      "outputs": [
        {
          "output_type": "execute_result",
          "data": {
            "text/html": [
              "<div>\n",
              "<style scoped>\n",
              "    .dataframe tbody tr th:only-of-type {\n",
              "        vertical-align: middle;\n",
              "    }\n",
              "\n",
              "    .dataframe tbody tr th {\n",
              "        vertical-align: top;\n",
              "    }\n",
              "\n",
              "    .dataframe thead th {\n",
              "        text-align: right;\n",
              "    }\n",
              "</style>\n",
              "<table border=\"1\" class=\"dataframe\">\n",
              "  <thead>\n",
              "    <tr style=\"text-align: right;\">\n",
              "      <th></th>\n",
              "      <th>항공노선</th>\n",
              "      <th>LEVEL1</th>\n",
              "      <th>값</th>\n",
              "      <th>년(Annual)</th>\n",
              "      <th>증감</th>\n",
              "      <th>증감율</th>\n",
              "      <th>구성비</th>\n",
              "      <th>누계</th>\n",
              "      <th>누계구성비</th>\n",
              "    </tr>\n",
              "  </thead>\n",
              "  <tbody>\n",
              "    <tr>\n",
              "      <th>280</th>\n",
              "      <td>제주소계</td>\n",
              "      <td>계</td>\n",
              "      <td>1592</td>\n",
              "      <td>2020</td>\n",
              "      <td>1592</td>\n",
              "      <td>1592</td>\n",
              "      <td>0</td>\n",
              "      <td>0</td>\n",
              "      <td>0</td>\n",
              "    </tr>\n",
              "  </tbody>\n",
              "</table>\n",
              "</div>"
            ],
            "text/plain": [
              "     항공노선 LEVEL1     값  년(Annual)    증감   증감율  구성비  누계  누계구성비\n",
              "280  제주소계      계  1592       2020  1592  1592    0   0      0"
            ]
          },
          "metadata": {},
          "execution_count": 26
        }
      ]
    },
    {
      "cell_type": "code",
      "metadata": {
        "colab": {
          "base_uri": "https://localhost:8080/"
        },
        "id": "R5iGCob3H7es",
        "outputId": "e5198e47-8a92-45d6-8bcb-3813d72f963e"
      },
      "source": [
        "# 행 추출이 데이터프레임으로 되었으므로 리스트로 변환 후 값 가져오기\n",
        "inland_sum_list = list(inland_sum['값'])\n",
        "jeju_sum_list = list(jeju_sum['값'])\n",
        "\n",
        "print('inland_sum_list : ', inland_sum_list)\n",
        "print('jeju_sum_list : ', jeju_sum_list)\n",
        "\n",
        "inland_sum_num = inland_sum_list[0]\n",
        "jeju_sum_num = jeju_sum_list[0]\n",
        "\n",
        "print('inland_sum_num : ', inland_sum_num)\n",
        "print('jeju_sum_num : ', jeju_sum_num)"
      ],
      "execution_count": null,
      "outputs": [
        {
          "output_type": "stream",
          "name": "stdout",
          "text": [
            "inland_sum_list :  [489]\n",
            "jeju_sum_list :  [1592]\n",
            "inland_sum_num :  489\n",
            "jeju_sum_num :  1592\n"
          ]
        }
      ]
    },
    {
      "cell_type": "code",
      "metadata": {
        "colab": {
          "base_uri": "https://localhost:8080/",
          "height": 265
        },
        "id": "O5IoFfH6IPaI",
        "outputId": "2ff6eb94-383b-4533-8e61-1ca2eb48c90d"
      },
      "source": [
        "# 막대 그래프 그리기\n",
        "import matplotlib.pyplot as plt\n",
        "\n",
        "x = np.arange(2)\n",
        "category = ['inland', 'jeju']\n",
        "values = [inland_sum_num, jeju_sum_num]\n",
        "colors = ['y', 'C2']\n",
        "\n",
        "plt.bar(x, values, color=colors)\n",
        "plt.xticks(x, category)\n",
        "\n",
        "plt.show()"
      ],
      "execution_count": null,
      "outputs": [
        {
          "output_type": "display_data",
          "data": {
            "image/png": "[encoded data removed]",
            "text/plain": [
              "<Figure size 432x288 with 1 Axes>"
            ]
          },
          "metadata": {
            "needs_background": "light"
          }
        }
      ]
    }
  ]
}