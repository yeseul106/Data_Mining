{
  "nbformat": 4,
  "nbformat_minor": 0,
  "metadata": {
    "colab": {
      "name": "Data_Mining_Assignment9_Quadratic.ipynb",
      "provenance": [],
      "authorship_tag": "ABX9TyNWrowB0TXJQ/jdKVfz2qV3",
      "include_colab_link": true
    },
    "kernelspec": {
      "name": "python3",
      "display_name": "Python 3"
    },
    "language_info": {
      "name": "python"
    }
  },
  "cells": [
    {
      "cell_type": "markdown",
      "metadata": {
        "id": "view-in-github",
        "colab_type": "text"
      },
      "source": [
        "<a href=\"https://colab.research.google.com/github/yeseul106/Data_Mining/blob/main/Data_Mining_Assignment9_Quadratic.ipynb\" target=\"_parent\"><img src=\"https://colab.research.google.com/assets/colab-badge.svg\" alt=\"Open In Colab\"/></a>"
      ]
    },
    {
      "cell_type": "code",
      "metadata": {
        "id": "4RUcb7xB50Or"
      },
      "source": [
        "import numpy as np\n",
        "import pandas as pd"
      ],
      "execution_count": 1,
      "outputs": []
    },
    {
      "cell_type": "code",
      "metadata": {
        "colab": {
          "base_uri": "https://localhost:8080/"
        },
        "id": "ukcCHjoXFf4C",
        "outputId": "cc4831f4-f6d6-4464-cf32-3df30a3f6344"
      },
      "source": [
        "# 구글 드라이브 연결\n",
        "from google.colab import drive\n",
        "drive.mount('/content/drive')"
      ],
      "execution_count": 3,
      "outputs": [
        {
          "output_type": "stream",
          "name": "stdout",
          "text": [
            "Drive already mounted at /content/drive; to attempt to forcibly remount, call drive.mount(\"/content/drive\", force_remount=True).\n"
          ]
        }
      ]
    },
    {
      "cell_type": "code",
      "metadata": {
        "colab": {
          "base_uri": "https://localhost:8080/",
          "height": 329
        },
        "id": "S5w70G2YFhQr",
        "outputId": "13c3c027-e0a3-486d-dc08-b46593ec9dae"
      },
      "source": [
        "# student_health csv 파일 읽어오기\n",
        "student_health = pd.read_csv('/content/drive/MyDrive/강의/데이터마이닝 수업/student_health_3.csv', encoding='cp949')\n",
        "print(student_health.shape)\n",
        "student_health.head(5)"
      ],
      "execution_count": 4,
      "outputs": [
        {
          "output_type": "stream",
          "name": "stdout",
          "text": [
            "(1125, 25)\n"
          ]
        },
        {
          "output_type": "execute_result",
          "data": {
            "text/html": [
              "<div>\n",
              "<style scoped>\n",
              "    .dataframe tbody tr th:only-of-type {\n",
              "        vertical-align: middle;\n",
              "    }\n",
              "\n",
              "    .dataframe tbody tr th {\n",
              "        vertical-align: top;\n",
              "    }\n",
              "\n",
              "    .dataframe thead th {\n",
              "        text-align: right;\n",
              "    }\n",
              "</style>\n",
              "<table border=\"1\" class=\"dataframe\">\n",
              "  <thead>\n",
              "    <tr style=\"text-align: right;\">\n",
              "      <th></th>\n",
              "      <th>ID</th>\n",
              "      <th>최종가중치</th>\n",
              "      <th>학교ID</th>\n",
              "      <th>도시규모</th>\n",
              "      <th>도시규모별분석용</th>\n",
              "      <th>학년도</th>\n",
              "      <th>광역시도</th>\n",
              "      <th>시도별</th>\n",
              "      <th>학교급별</th>\n",
              "      <th>학교명</th>\n",
              "      <th>공학여부</th>\n",
              "      <th>학년</th>\n",
              "      <th>반</th>\n",
              "      <th>성별</th>\n",
              "      <th>건강검진일</th>\n",
              "      <th>키</th>\n",
              "      <th>몸무게</th>\n",
              "      <th>혈당식전mgdl</th>\n",
              "      <th>총콜레스테롤mgdl</th>\n",
              "      <th>ASTUL</th>\n",
              "      <th>ALTUL</th>\n",
              "      <th>혈색소gdl</th>\n",
              "      <th>간염검사</th>\n",
              "      <th>수축기</th>\n",
              "      <th>이완기</th>\n",
              "    </tr>\n",
              "  </thead>\n",
              "  <tbody>\n",
              "    <tr>\n",
              "      <th>0</th>\n",
              "      <td>Aa011남10101</td>\n",
              "      <td>169.550665</td>\n",
              "      <td>Aa01</td>\n",
              "      <td>대도시/중소도시</td>\n",
              "      <td>특별/광역시</td>\n",
              "      <td>2015</td>\n",
              "      <td>서울</td>\n",
              "      <td>서울특별시교육청</td>\n",
              "      <td>1</td>\n",
              "      <td>서울대도초등학교</td>\n",
              "      <td>남여공학</td>\n",
              "      <td>1</td>\n",
              "      <td>1</td>\n",
              "      <td>남</td>\n",
              "      <td>2015-05-12</td>\n",
              "      <td>125.8</td>\n",
              "      <td>27.3</td>\n",
              "      <td>NaN</td>\n",
              "      <td>NaN</td>\n",
              "      <td>NaN</td>\n",
              "      <td>NaN</td>\n",
              "      <td>NaN</td>\n",
              "      <td>NaN</td>\n",
              "      <td>77</td>\n",
              "      <td>58</td>\n",
              "    </tr>\n",
              "    <tr>\n",
              "      <th>1</th>\n",
              "      <td>Aa011남10102</td>\n",
              "      <td>169.550665</td>\n",
              "      <td>Aa01</td>\n",
              "      <td>대도시/중소도시</td>\n",
              "      <td>특별/광역시</td>\n",
              "      <td>2015</td>\n",
              "      <td>서울</td>\n",
              "      <td>서울특별시교육청</td>\n",
              "      <td>1</td>\n",
              "      <td>서울대도초등학교</td>\n",
              "      <td>남여공학</td>\n",
              "      <td>1</td>\n",
              "      <td>1</td>\n",
              "      <td>남</td>\n",
              "      <td>2015-04-22</td>\n",
              "      <td>124.3</td>\n",
              "      <td>25.4</td>\n",
              "      <td>NaN</td>\n",
              "      <td>NaN</td>\n",
              "      <td>NaN</td>\n",
              "      <td>NaN</td>\n",
              "      <td>NaN</td>\n",
              "      <td>NaN</td>\n",
              "      <td>83</td>\n",
              "      <td>51</td>\n",
              "    </tr>\n",
              "    <tr>\n",
              "      <th>2</th>\n",
              "      <td>Aa011남10103</td>\n",
              "      <td>169.550665</td>\n",
              "      <td>Aa01</td>\n",
              "      <td>대도시/중소도시</td>\n",
              "      <td>특별/광역시</td>\n",
              "      <td>2015</td>\n",
              "      <td>서울</td>\n",
              "      <td>서울특별시교육청</td>\n",
              "      <td>1</td>\n",
              "      <td>서울대도초등학교</td>\n",
              "      <td>남여공학</td>\n",
              "      <td>1</td>\n",
              "      <td>1</td>\n",
              "      <td>남</td>\n",
              "      <td>2015-04-21</td>\n",
              "      <td>119.2</td>\n",
              "      <td>23.5</td>\n",
              "      <td>NaN</td>\n",
              "      <td>NaN</td>\n",
              "      <td>NaN</td>\n",
              "      <td>NaN</td>\n",
              "      <td>NaN</td>\n",
              "      <td>NaN</td>\n",
              "      <td>103</td>\n",
              "      <td>65</td>\n",
              "    </tr>\n",
              "    <tr>\n",
              "      <th>3</th>\n",
              "      <td>Aa011남10104</td>\n",
              "      <td>169.550665</td>\n",
              "      <td>Aa01</td>\n",
              "      <td>대도시/중소도시</td>\n",
              "      <td>특별/광역시</td>\n",
              "      <td>2015</td>\n",
              "      <td>서울</td>\n",
              "      <td>서울특별시교육청</td>\n",
              "      <td>1</td>\n",
              "      <td>서울대도초등학교</td>\n",
              "      <td>남여공학</td>\n",
              "      <td>1</td>\n",
              "      <td>1</td>\n",
              "      <td>남</td>\n",
              "      <td>2015-04-21</td>\n",
              "      <td>115.0</td>\n",
              "      <td>20.0</td>\n",
              "      <td>NaN</td>\n",
              "      <td>NaN</td>\n",
              "      <td>NaN</td>\n",
              "      <td>NaN</td>\n",
              "      <td>NaN</td>\n",
              "      <td>NaN</td>\n",
              "      <td>92</td>\n",
              "      <td>66</td>\n",
              "    </tr>\n",
              "    <tr>\n",
              "      <th>4</th>\n",
              "      <td>Aa011남10105</td>\n",
              "      <td>169.550665</td>\n",
              "      <td>Aa01</td>\n",
              "      <td>대도시/중소도시</td>\n",
              "      <td>특별/광역시</td>\n",
              "      <td>2015</td>\n",
              "      <td>서울</td>\n",
              "      <td>서울특별시교육청</td>\n",
              "      <td>1</td>\n",
              "      <td>서울대도초등학교</td>\n",
              "      <td>남여공학</td>\n",
              "      <td>1</td>\n",
              "      <td>1</td>\n",
              "      <td>남</td>\n",
              "      <td>2015-04-23</td>\n",
              "      <td>120.0</td>\n",
              "      <td>33.5</td>\n",
              "      <td>NaN</td>\n",
              "      <td>NaN</td>\n",
              "      <td>NaN</td>\n",
              "      <td>NaN</td>\n",
              "      <td>NaN</td>\n",
              "      <td>NaN</td>\n",
              "      <td>102</td>\n",
              "      <td>59</td>\n",
              "    </tr>\n",
              "  </tbody>\n",
              "</table>\n",
              "</div>"
            ],
            "text/plain": [
              "            ID       최종가중치  학교ID      도시규모  ... 혈색소gdl  간염검사  수축기 이완기\n",
              "0  Aa011남10101  169.550665  Aa01  대도시/중소도시  ...    NaN   NaN   77  58\n",
              "1  Aa011남10102  169.550665  Aa01  대도시/중소도시  ...    NaN   NaN   83  51\n",
              "2  Aa011남10103  169.550665  Aa01  대도시/중소도시  ...    NaN   NaN  103  65\n",
              "3  Aa011남10104  169.550665  Aa01  대도시/중소도시  ...    NaN   NaN   92  66\n",
              "4  Aa011남10105  169.550665  Aa01  대도시/중소도시  ...    NaN   NaN  102  59\n",
              "\n",
              "[5 rows x 25 columns]"
            ]
          },
          "metadata": {},
          "execution_count": 4
        }
      ]
    },
    {
      "cell_type": "code",
      "metadata": {
        "colab": {
          "base_uri": "https://localhost:8080/"
        },
        "id": "_0mrFLEkFieB",
        "outputId": "790dc5f2-c760-4002-f505-39399a11cd7b"
      },
      "source": [
        "# 초등학교 1학년과 4학년 두가지만 존재하는 것을 확인\n",
        "student_health['학년'].value_counts()"
      ],
      "execution_count": 5,
      "outputs": [
        {
          "output_type": "execute_result",
          "data": {
            "text/plain": [
              "4    569\n",
              "1    556\n",
              "Name: 학년, dtype: int64"
            ]
          },
          "metadata": {},
          "execution_count": 5
        }
      ]
    },
    {
      "cell_type": "code",
      "metadata": {
        "colab": {
          "base_uri": "https://localhost:8080/",
          "height": 225
        },
        "id": "HtUobDzqGH8y",
        "outputId": "a0912be8-e1f2-458a-c89f-937abb974a3c"
      },
      "source": [
        "#학년을 예측할 때 필요한 feature만 정리 (수축기, 이완기, 키, 몸무게)\n",
        "student_data = pd.DataFrame(student_health, columns=['키', '몸무게','수축기', '이완기', '학년'])\n",
        "print(\"student_data의 shape : \",student_data.shape)\n",
        "student_data.head(5)"
      ],
      "execution_count": 6,
      "outputs": [
        {
          "output_type": "stream",
          "name": "stdout",
          "text": [
            "student_data의 shape :  (1125, 5)\n"
          ]
        },
        {
          "output_type": "execute_result",
          "data": {
            "text/html": [
              "<div>\n",
              "<style scoped>\n",
              "    .dataframe tbody tr th:only-of-type {\n",
              "        vertical-align: middle;\n",
              "    }\n",
              "\n",
              "    .dataframe tbody tr th {\n",
              "        vertical-align: top;\n",
              "    }\n",
              "\n",
              "    .dataframe thead th {\n",
              "        text-align: right;\n",
              "    }\n",
              "</style>\n",
              "<table border=\"1\" class=\"dataframe\">\n",
              "  <thead>\n",
              "    <tr style=\"text-align: right;\">\n",
              "      <th></th>\n",
              "      <th>키</th>\n",
              "      <th>몸무게</th>\n",
              "      <th>수축기</th>\n",
              "      <th>이완기</th>\n",
              "      <th>학년</th>\n",
              "    </tr>\n",
              "  </thead>\n",
              "  <tbody>\n",
              "    <tr>\n",
              "      <th>0</th>\n",
              "      <td>125.8</td>\n",
              "      <td>27.3</td>\n",
              "      <td>77</td>\n",
              "      <td>58</td>\n",
              "      <td>1</td>\n",
              "    </tr>\n",
              "    <tr>\n",
              "      <th>1</th>\n",
              "      <td>124.3</td>\n",
              "      <td>25.4</td>\n",
              "      <td>83</td>\n",
              "      <td>51</td>\n",
              "      <td>1</td>\n",
              "    </tr>\n",
              "    <tr>\n",
              "      <th>2</th>\n",
              "      <td>119.2</td>\n",
              "      <td>23.5</td>\n",
              "      <td>103</td>\n",
              "      <td>65</td>\n",
              "      <td>1</td>\n",
              "    </tr>\n",
              "    <tr>\n",
              "      <th>3</th>\n",
              "      <td>115.0</td>\n",
              "      <td>20.0</td>\n",
              "      <td>92</td>\n",
              "      <td>66</td>\n",
              "      <td>1</td>\n",
              "    </tr>\n",
              "    <tr>\n",
              "      <th>4</th>\n",
              "      <td>120.0</td>\n",
              "      <td>33.5</td>\n",
              "      <td>102</td>\n",
              "      <td>59</td>\n",
              "      <td>1</td>\n",
              "    </tr>\n",
              "  </tbody>\n",
              "</table>\n",
              "</div>"
            ],
            "text/plain": [
              "       키   몸무게  수축기  이완기  학년\n",
              "0  125.8  27.3   77   58   1\n",
              "1  124.3  25.4   83   51   1\n",
              "2  119.2  23.5  103   65   1\n",
              "3  115.0  20.0   92   66   1\n",
              "4  120.0  33.5  102   59   1"
            ]
          },
          "metadata": {},
          "execution_count": 6
        }
      ]
    },
    {
      "cell_type": "code",
      "metadata": {
        "colab": {
          "base_uri": "https://localhost:8080/"
        },
        "id": "xOxt5pGTGJ9P",
        "outputId": "327bf475-8e7a-4a79-d797-962619b9d237"
      },
      "source": [
        "from sklearn.linear_model import LogisticRegression\n",
        "\n",
        "# 입력 데이터\n",
        "input_data = student_data[['키', '몸무게','수축기', '이완기']].to_numpy()\n",
        "print(\"input_data shape : \",input_data.shape)"
      ],
      "execution_count": 7,
      "outputs": [
        {
          "output_type": "stream",
          "name": "stdout",
          "text": [
            "input_data shape :  (1125, 4)\n"
          ]
        }
      ]
    },
    {
      "cell_type": "code",
      "metadata": {
        "colab": {
          "base_uri": "https://localhost:8080/"
        },
        "id": "Ci0_2Z5hGNcx",
        "outputId": "06fd82c2-f2b4-4565-881e-d662fe1413a9"
      },
      "source": [
        "print(\"input_data[0]: \", input_data[0])"
      ],
      "execution_count": 8,
      "outputs": [
        {
          "output_type": "stream",
          "name": "stdout",
          "text": [
            "input_data[0]:  [125.8  27.3  77.   58. ]\n"
          ]
        }
      ]
    },
    {
      "cell_type": "code",
      "metadata": {
        "colab": {
          "base_uri": "https://localhost:8080/"
        },
        "id": "GF1fRtZ1GST9",
        "outputId": "29df9ce7-177e-4074-9c98-8ceb43d02041"
      },
      "source": [
        "y_label = student_data['학년'].to_numpy()\n",
        "print(\"y_label shape : \",y_label.shape)"
      ],
      "execution_count": 9,
      "outputs": [
        {
          "output_type": "stream",
          "name": "stdout",
          "text": [
            "y_label shape :  (1125,)\n"
          ]
        }
      ]
    },
    {
      "cell_type": "code",
      "metadata": {
        "colab": {
          "base_uri": "https://localhost:8080/"
        },
        "id": "1XeZWfDfGUlz",
        "outputId": "77f094bb-1b2e-4c8a-faa3-e0742f3f3f92"
      },
      "source": [
        "from sklearn.discriminant_analysis import QuadraticDiscriminantAnalysis\n",
        "\n",
        "model = QuadraticDiscriminantAnalysis()\n",
        "model.fit(input_data,y_label)"
      ],
      "execution_count": 10,
      "outputs": [
        {
          "output_type": "execute_result",
          "data": {
            "text/plain": [
              "QuadraticDiscriminantAnalysis()"
            ]
          },
          "metadata": {},
          "execution_count": 10
        }
      ]
    },
    {
      "cell_type": "code",
      "metadata": {
        "colab": {
          "base_uri": "https://localhost:8080/"
        },
        "id": "e8HB1ZGDGjqZ",
        "outputId": "43ac9c76-1375-4a10-d736-491460776496"
      },
      "source": [
        "# 처음 40개 샘플 예측\n",
        "print(\"예측 값:\", model.predict(input_data[:40]))\n",
        "print(\"실제 값:\", y_label[:40])"
      ],
      "execution_count": 11,
      "outputs": [
        {
          "output_type": "stream",
          "name": "stdout",
          "text": [
            "예측 값: [1 1 1 1 1 1 1 1 1 1 1 1 1 1 1 1 1 1 1 1 1 1 1 1 1 1 1 1 1 1 1 1 1 1 1 1 4\n",
            " 1 1 4]\n",
            "실제 값: [1 1 1 1 1 1 1 1 1 1 1 1 1 1 1 1 1 1 1 1 1 1 1 1 1 1 1 1 1 1 1 1 1 1 1 1 4\n",
            " 4 4 4]\n"
          ]
        }
      ]
    },
    {
      "cell_type": "code",
      "metadata": {
        "colab": {
          "base_uri": "https://localhost:8080/",
          "height": 424
        },
        "id": "R3BFMrYnGlab",
        "outputId": "a6906999-48a4-4b55-bbbd-80272b0c0fa8"
      },
      "source": [
        "# 예측한 값을 새로운 열로 추가하기\n",
        "student_data['예측한 학년'] = model.predict(input_data[:])\n",
        "student_data"
      ],
      "execution_count": 12,
      "outputs": [
        {
          "output_type": "execute_result",
          "data": {
            "text/html": [
              "<div>\n",
              "<style scoped>\n",
              "    .dataframe tbody tr th:only-of-type {\n",
              "        vertical-align: middle;\n",
              "    }\n",
              "\n",
              "    .dataframe tbody tr th {\n",
              "        vertical-align: top;\n",
              "    }\n",
              "\n",
              "    .dataframe thead th {\n",
              "        text-align: right;\n",
              "    }\n",
              "</style>\n",
              "<table border=\"1\" class=\"dataframe\">\n",
              "  <thead>\n",
              "    <tr style=\"text-align: right;\">\n",
              "      <th></th>\n",
              "      <th>키</th>\n",
              "      <th>몸무게</th>\n",
              "      <th>수축기</th>\n",
              "      <th>이완기</th>\n",
              "      <th>학년</th>\n",
              "      <th>예측한 학년</th>\n",
              "    </tr>\n",
              "  </thead>\n",
              "  <tbody>\n",
              "    <tr>\n",
              "      <th>0</th>\n",
              "      <td>125.8</td>\n",
              "      <td>27.3</td>\n",
              "      <td>77</td>\n",
              "      <td>58</td>\n",
              "      <td>1</td>\n",
              "      <td>1</td>\n",
              "    </tr>\n",
              "    <tr>\n",
              "      <th>1</th>\n",
              "      <td>124.3</td>\n",
              "      <td>25.4</td>\n",
              "      <td>83</td>\n",
              "      <td>51</td>\n",
              "      <td>1</td>\n",
              "      <td>1</td>\n",
              "    </tr>\n",
              "    <tr>\n",
              "      <th>2</th>\n",
              "      <td>119.2</td>\n",
              "      <td>23.5</td>\n",
              "      <td>103</td>\n",
              "      <td>65</td>\n",
              "      <td>1</td>\n",
              "      <td>1</td>\n",
              "    </tr>\n",
              "    <tr>\n",
              "      <th>3</th>\n",
              "      <td>115.0</td>\n",
              "      <td>20.0</td>\n",
              "      <td>92</td>\n",
              "      <td>66</td>\n",
              "      <td>1</td>\n",
              "      <td>1</td>\n",
              "    </tr>\n",
              "    <tr>\n",
              "      <th>4</th>\n",
              "      <td>120.0</td>\n",
              "      <td>33.5</td>\n",
              "      <td>102</td>\n",
              "      <td>59</td>\n",
              "      <td>1</td>\n",
              "      <td>1</td>\n",
              "    </tr>\n",
              "    <tr>\n",
              "      <th>...</th>\n",
              "      <td>...</td>\n",
              "      <td>...</td>\n",
              "      <td>...</td>\n",
              "      <td>...</td>\n",
              "      <td>...</td>\n",
              "      <td>...</td>\n",
              "    </tr>\n",
              "    <tr>\n",
              "      <th>1120</th>\n",
              "      <td>134.1</td>\n",
              "      <td>33.1</td>\n",
              "      <td>100</td>\n",
              "      <td>60</td>\n",
              "      <td>4</td>\n",
              "      <td>4</td>\n",
              "    </tr>\n",
              "    <tr>\n",
              "      <th>1121</th>\n",
              "      <td>142.7</td>\n",
              "      <td>33.1</td>\n",
              "      <td>84</td>\n",
              "      <td>46</td>\n",
              "      <td>4</td>\n",
              "      <td>4</td>\n",
              "    </tr>\n",
              "    <tr>\n",
              "      <th>1122</th>\n",
              "      <td>130.2</td>\n",
              "      <td>27.6</td>\n",
              "      <td>100</td>\n",
              "      <td>55</td>\n",
              "      <td>4</td>\n",
              "      <td>4</td>\n",
              "    </tr>\n",
              "    <tr>\n",
              "      <th>1123</th>\n",
              "      <td>146.2</td>\n",
              "      <td>41.7</td>\n",
              "      <td>109</td>\n",
              "      <td>60</td>\n",
              "      <td>4</td>\n",
              "      <td>4</td>\n",
              "    </tr>\n",
              "    <tr>\n",
              "      <th>1124</th>\n",
              "      <td>129.3</td>\n",
              "      <td>28.9</td>\n",
              "      <td>95</td>\n",
              "      <td>60</td>\n",
              "      <td>4</td>\n",
              "      <td>1</td>\n",
              "    </tr>\n",
              "  </tbody>\n",
              "</table>\n",
              "<p>1125 rows × 6 columns</p>\n",
              "</div>"
            ],
            "text/plain": [
              "          키   몸무게  수축기  이완기  학년  예측한 학년\n",
              "0     125.8  27.3   77   58   1       1\n",
              "1     124.3  25.4   83   51   1       1\n",
              "2     119.2  23.5  103   65   1       1\n",
              "3     115.0  20.0   92   66   1       1\n",
              "4     120.0  33.5  102   59   1       1\n",
              "...     ...   ...  ...  ...  ..     ...\n",
              "1120  134.1  33.1  100   60   4       4\n",
              "1121  142.7  33.1   84   46   4       4\n",
              "1122  130.2  27.6  100   55   4       4\n",
              "1123  146.2  41.7  109   60   4       4\n",
              "1124  129.3  28.9   95   60   4       1\n",
              "\n",
              "[1125 rows x 6 columns]"
            ]
          },
          "metadata": {},
          "execution_count": 12
        }
      ]
    },
    {
      "cell_type": "code",
      "metadata": {
        "colab": {
          "base_uri": "https://localhost:8080/"
        },
        "id": "25Zhn7IBGp7t",
        "outputId": "a64cbd8c-db1f-42a0-c1b6-798caeafefda"
      },
      "source": [
        "# 모델의 점수\n",
        "model.score(input_data,y_label)"
      ],
      "execution_count": 13,
      "outputs": [
        {
          "output_type": "execute_result",
          "data": {
            "text/plain": [
              "0.9582222222222222"
            ]
          },
          "metadata": {},
          "execution_count": 13
        }
      ]
    }
  ]
}