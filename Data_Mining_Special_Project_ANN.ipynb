{
  "nbformat": 4,
  "nbformat_minor": 0,
  "metadata": {
    "colab": {
      "name": "Data_Mining_Special Project_ANN.ipynb",
      "provenance": [],
      "collapsed_sections": [],
      "authorship_tag": "ABX9TyMTz1fgAwgi6yvwTtQeFj0h",
      "include_colab_link": true
    },
    "kernelspec": {
      "name": "python3",
      "display_name": "Python 3"
    },
    "language_info": {
      "name": "python"
    }
  },
  "cells": [
    {
      "cell_type": "markdown",
      "metadata": {
        "id": "view-in-github",
        "colab_type": "text"
      },
      "source": [
        "<a href=\"https://colab.research.google.com/github/yeseul106/Data_Mining/blob/main/Data_Mining_Special_Project_ANN.ipynb\" target=\"_parent\"><img src=\"https://colab.research.google.com/assets/colab-badge.svg\" alt=\"Open In Colab\"/></a>"
      ]
    },
    {
      "cell_type": "markdown",
      "metadata": {
        "id": "TczpKgTgRlX_"
      },
      "source": [
        "# **1) 인공 신경망 (ANN)**\n",
        "\n",
        "- 사람의 신경망 원리와 구조를 모방하여 만든 기계학습 알고리즘.\n",
        "- ANN에 은닉층을 여러 개 추가하여 성능을 향상 시킨 모델이 바로 심층 신경망(DNN).\n",
        "- 따라서 Dense 클래스를 사용하여 은닉층(Hidden Layer)을 1개로 구현\n",
        "\n"
      ]
    },
    {
      "cell_type": "code",
      "metadata": {
        "id": "Y5ulgb7MFePz"
      },
      "source": [
        "import tensorflow\n",
        "import keras\n",
        "from keras.datasets import mnist\n",
        "from keras.models import Sequential\n",
        "from keras.layers import Dense, Dropout, Flatten\n",
        "from keras.layers import Conv2D, MaxPooling2D\n",
        "import numpy as np"
      ],
      "execution_count": 20,
      "outputs": []
    },
    {
      "cell_type": "code",
      "metadata": {
        "id": "qoZ2BPt3SzZG"
      },
      "source": [
        "batch_size = 128\n",
        "num_classes = 10\n",
        "epochs = 12"
      ],
      "execution_count": 21,
      "outputs": []
    },
    {
      "cell_type": "code",
      "metadata": {
        "id": "nX-0JHknS3tK"
      },
      "source": [
        "# input image dimensions\n",
        "img_rows, img_cols = 28, 28\n",
        "\n",
        "# the data, split between train and test sets\n",
        "(x_train, y_train), (x_test, y_test) = mnist.load_data()\n",
        "\n",
        "# 1차원 배열로 만들기\n",
        "train_scaled = x_train / 255.0\n",
        "train_scaled = train_scaled.reshape(-1,28*28)\n",
        "\n",
        "test_scaled = x_test / 255.0\n",
        "test_scaled = test_scaled.reshape(-1,28*28)"
      ],
      "execution_count": 22,
      "outputs": []
    },
    {
      "cell_type": "code",
      "metadata": {
        "colab": {
          "base_uri": "https://localhost:8080/"
        },
        "id": "yZCALgUnTAA8",
        "outputId": "79cbd67e-6725-4af8-ca60-c83abe1ab92d"
      },
      "source": [
        "print('x_train shape:', train_scaled.shape)\n",
        "print('x_test shape:', test_scaled.shape)\n",
        "print(x_train.shape[0], 'train samples')\n",
        "print(x_test.shape[0], 'test samples')"
      ],
      "execution_count": 23,
      "outputs": [
        {
          "output_type": "stream",
          "name": "stdout",
          "text": [
            "x_train shape: (60000, 784)\n",
            "x_test shape: (10000, 784)\n",
            "60000 train samples\n",
            "10000 test samples\n"
          ]
        }
      ]
    },
    {
      "cell_type": "code",
      "metadata": {
        "id": "935AA_JjTCjO"
      },
      "source": [
        "# convert class vectors to binary class matrices\n",
        "y_train = tensorflow.keras.utils.to_categorical(y_train, num_classes)\n",
        "y_test = tensorflow.keras.utils.to_categorical(y_test, num_classes)"
      ],
      "execution_count": 24,
      "outputs": []
    },
    {
      "cell_type": "markdown",
      "metadata": {
        "id": "O2If-36TU3Wg"
      },
      "source": [
        "**모델 구현**"
      ]
    },
    {
      "cell_type": "code",
      "metadata": {
        "id": "AN0aVROnTIV_"
      },
      "source": [
        "# 모델 구현\n",
        "dense = keras.layers.Dense(num_classes, activation=\"softmax\", input_shape=(784,))\n",
        "model = Sequential(dense)"
      ],
      "execution_count": 25,
      "outputs": []
    },
    {
      "cell_type": "markdown",
      "metadata": {
        "id": "7ZxSH6hpU73q"
      },
      "source": [
        "**모델 컴파일**\n",
        "\n",
        "- 훈련하기 전, 사용할 손실 함수와 측정 지표 지정"
      ]
    },
    {
      "cell_type": "code",
      "metadata": {
        "id": "WU6tCbLuUrvL"
      },
      "source": [
        "from tensorflow.keras import optimizers\n",
        "\n",
        "model.compile(loss=keras.losses.categorical_crossentropy, optimizer= optimizers.Adadelta(), metrics=['accuracy'])"
      ],
      "execution_count": 26,
      "outputs": []
    },
    {
      "cell_type": "code",
      "metadata": {
        "colab": {
          "base_uri": "https://localhost:8080/"
        },
        "id": "L1QHsASVVS60",
        "outputId": "41f2ce10-e2ef-4f02-dfad-885306cf3c30"
      },
      "source": [
        "import time\n",
        "start_time = time.time()  # 모델 학습 시작시간 체크\n",
        "model.fit(train_scaled, y_train,\n",
        "          batch_size=batch_size,\n",
        "          epochs=epochs,\n",
        "          verbose=1,\n",
        "          validation_data=(test_scaled, y_test))\n",
        "end_time = time.time()  # 모델 학습 종료시간 체크\n",
        "print('모델 학습 시간: ', end_time - start_time)"
      ],
      "execution_count": 27,
      "outputs": [
        {
          "output_type": "stream",
          "name": "stdout",
          "text": [
            "Epoch 1/12\n",
            "469/469 [==============================] - 1s 2ms/step - loss: 2.3383 - accuracy: 0.1565 - val_loss: 2.3223 - val_accuracy: 0.1637\n",
            "Epoch 2/12\n",
            "469/469 [==============================] - 1s 2ms/step - loss: 2.3071 - accuracy: 0.1679 - val_loss: 2.2899 - val_accuracy: 0.1748\n",
            "Epoch 3/12\n",
            "469/469 [==============================] - 1s 2ms/step - loss: 2.2748 - accuracy: 0.1809 - val_loss: 2.2568 - val_accuracy: 0.1887\n",
            "Epoch 4/12\n",
            "469/469 [==============================] - 1s 2ms/step - loss: 2.2421 - accuracy: 0.1969 - val_loss: 2.2235 - val_accuracy: 0.2032\n",
            "Epoch 5/12\n",
            "469/469 [==============================] - 1s 2ms/step - loss: 2.2093 - accuracy: 0.2127 - val_loss: 2.1900 - val_accuracy: 0.2199\n",
            "Epoch 6/12\n",
            "469/469 [==============================] - 1s 2ms/step - loss: 2.1764 - accuracy: 0.2302 - val_loss: 2.1567 - val_accuracy: 0.2385\n",
            "Epoch 7/12\n",
            "469/469 [==============================] - 1s 2ms/step - loss: 2.1437 - accuracy: 0.2482 - val_loss: 2.1236 - val_accuracy: 0.2579\n",
            "Epoch 8/12\n",
            "469/469 [==============================] - 1s 2ms/step - loss: 2.1113 - accuracy: 0.2696 - val_loss: 2.0907 - val_accuracy: 0.2809\n",
            "Epoch 9/12\n",
            "469/469 [==============================] - 1s 2ms/step - loss: 2.0792 - accuracy: 0.2934 - val_loss: 2.0583 - val_accuracy: 0.3035\n",
            "Epoch 10/12\n",
            "469/469 [==============================] - 1s 2ms/step - loss: 2.0475 - accuracy: 0.3190 - val_loss: 2.0264 - val_accuracy: 0.3305\n",
            "Epoch 11/12\n",
            "469/469 [==============================] - 1s 2ms/step - loss: 2.0164 - accuracy: 0.3459 - val_loss: 1.9949 - val_accuracy: 0.3572\n",
            "Epoch 12/12\n",
            "469/469 [==============================] - 1s 2ms/step - loss: 1.9857 - accuracy: 0.3740 - val_loss: 1.9640 - val_accuracy: 0.3870\n",
            "모델 학습 시간:  10.621271133422852\n"
          ]
        }
      ]
    },
    {
      "cell_type": "code",
      "metadata": {
        "colab": {
          "base_uri": "https://localhost:8080/"
        },
        "id": "Aaop54k-XG06",
        "outputId": "be8fed90-aef4-4f68-9ff3-3840b6a99cf8"
      },
      "source": [
        "score = model.evaluate(test_scaled, y_test, verbose=0)\n",
        "print('Test loss:', score[0])\n",
        "print('Test accuracy:', score[1])"
      ],
      "execution_count": 29,
      "outputs": [
        {
          "output_type": "stream",
          "name": "stdout",
          "text": [
            "Test loss: 1.9640398025512695\n",
            "Test accuracy: 0.3869999945163727\n"
          ]
        }
      ]
    },
    {
      "cell_type": "markdown",
      "metadata": {
        "id": "LMLe-SdLi5RN"
      },
      "source": [
        "**에폭을 늘려서 정확도 개선해보기**"
      ]
    },
    {
      "cell_type": "code",
      "metadata": {
        "colab": {
          "base_uri": "https://localhost:8080/"
        },
        "id": "KIQMQceni4Xv",
        "outputId": "6d376b46-6d68-4252-84ab-1ab578217af9"
      },
      "source": [
        "epochs = 100\n",
        "\n",
        "start_time = time.time()  # 모델 학습 시작시간 체크\n",
        "model.fit(train_scaled, y_train,\n",
        "          batch_size=batch_size,\n",
        "          epochs=epochs,\n",
        "          verbose=1,\n",
        "          validation_data=(test_scaled, y_test))\n",
        "end_time = time.time()  # 모델 학습 종료시간 체크\n",
        "print('모델 학습 시간: ', end_time - start_time)"
      ],
      "execution_count": 30,
      "outputs": [
        {
          "output_type": "stream",
          "name": "stdout",
          "text": [
            "Epoch 1/100\n",
            "469/469 [==============================] - 1s 2ms/step - loss: 1.9556 - accuracy: 0.4031 - val_loss: 1.9337 - val_accuracy: 0.4156\n",
            "Epoch 2/100\n",
            "469/469 [==============================] - 1s 2ms/step - loss: 1.9259 - accuracy: 0.4313 - val_loss: 1.9038 - val_accuracy: 0.4418\n",
            "Epoch 3/100\n",
            "469/469 [==============================] - 1s 2ms/step - loss: 1.8967 - accuracy: 0.4585 - val_loss: 1.8745 - val_accuracy: 0.4675\n",
            "Epoch 4/100\n",
            "469/469 [==============================] - 1s 2ms/step - loss: 1.8683 - accuracy: 0.4855 - val_loss: 1.8459 - val_accuracy: 0.4940\n",
            "Epoch 5/100\n",
            "469/469 [==============================] - 1s 2ms/step - loss: 1.8404 - accuracy: 0.5099 - val_loss: 1.8179 - val_accuracy: 0.5190\n",
            "Epoch 6/100\n",
            "469/469 [==============================] - 1s 2ms/step - loss: 1.8130 - accuracy: 0.5309 - val_loss: 1.7904 - val_accuracy: 0.5404\n",
            "Epoch 7/100\n",
            "469/469 [==============================] - 1s 2ms/step - loss: 1.7863 - accuracy: 0.5521 - val_loss: 1.7636 - val_accuracy: 0.5620\n",
            "Epoch 8/100\n",
            "469/469 [==============================] - 1s 2ms/step - loss: 1.7601 - accuracy: 0.5710 - val_loss: 1.7372 - val_accuracy: 0.5817\n",
            "Epoch 9/100\n",
            "469/469 [==============================] - 1s 2ms/step - loss: 1.7343 - accuracy: 0.5890 - val_loss: 1.7113 - val_accuracy: 0.5993\n",
            "Epoch 10/100\n",
            "469/469 [==============================] - 1s 2ms/step - loss: 1.7091 - accuracy: 0.6054 - val_loss: 1.6861 - val_accuracy: 0.6142\n",
            "Epoch 11/100\n",
            "469/469 [==============================] - 1s 2ms/step - loss: 1.6846 - accuracy: 0.6204 - val_loss: 1.6615 - val_accuracy: 0.6290\n",
            "Epoch 12/100\n",
            "469/469 [==============================] - 1s 2ms/step - loss: 1.6607 - accuracy: 0.6345 - val_loss: 1.6376 - val_accuracy: 0.6427\n",
            "Epoch 13/100\n",
            "469/469 [==============================] - 1s 2ms/step - loss: 1.6373 - accuracy: 0.6470 - val_loss: 1.6141 - val_accuracy: 0.6545\n",
            "Epoch 14/100\n",
            "469/469 [==============================] - 1s 2ms/step - loss: 1.6144 - accuracy: 0.6582 - val_loss: 1.5912 - val_accuracy: 0.6654\n",
            "Epoch 15/100\n",
            "469/469 [==============================] - 1s 2ms/step - loss: 1.5921 - accuracy: 0.6680 - val_loss: 1.5688 - val_accuracy: 0.6754\n",
            "Epoch 16/100\n",
            "469/469 [==============================] - 1s 2ms/step - loss: 1.5702 - accuracy: 0.6767 - val_loss: 1.5468 - val_accuracy: 0.6838\n",
            "Epoch 17/100\n",
            "469/469 [==============================] - 1s 2ms/step - loss: 1.5488 - accuracy: 0.6846 - val_loss: 1.5254 - val_accuracy: 0.6922\n",
            "Epoch 18/100\n",
            "469/469 [==============================] - 1s 2ms/step - loss: 1.5280 - accuracy: 0.6921 - val_loss: 1.5045 - val_accuracy: 0.6997\n",
            "Epoch 19/100\n",
            "469/469 [==============================] - 1s 2ms/step - loss: 1.5076 - accuracy: 0.6987 - val_loss: 1.4840 - val_accuracy: 0.7056\n",
            "Epoch 20/100\n",
            "469/469 [==============================] - 1s 2ms/step - loss: 1.4876 - accuracy: 0.7042 - val_loss: 1.4640 - val_accuracy: 0.7120\n",
            "Epoch 21/100\n",
            "469/469 [==============================] - 1s 2ms/step - loss: 1.4682 - accuracy: 0.7097 - val_loss: 1.4445 - val_accuracy: 0.7194\n",
            "Epoch 22/100\n",
            "469/469 [==============================] - 1s 2ms/step - loss: 1.4492 - accuracy: 0.7153 - val_loss: 1.4255 - val_accuracy: 0.7247\n",
            "Epoch 23/100\n",
            "469/469 [==============================] - 1s 2ms/step - loss: 1.4308 - accuracy: 0.7208 - val_loss: 1.4070 - val_accuracy: 0.7292\n",
            "Epoch 24/100\n",
            "469/469 [==============================] - 1s 2ms/step - loss: 1.4128 - accuracy: 0.7250 - val_loss: 1.3890 - val_accuracy: 0.7324\n",
            "Epoch 25/100\n",
            "469/469 [==============================] - 1s 2ms/step - loss: 1.3952 - accuracy: 0.7299 - val_loss: 1.3714 - val_accuracy: 0.7380\n",
            "Epoch 26/100\n",
            "469/469 [==============================] - 1s 2ms/step - loss: 1.3781 - accuracy: 0.7338 - val_loss: 1.3542 - val_accuracy: 0.7422\n",
            "Epoch 27/100\n",
            "469/469 [==============================] - 1s 2ms/step - loss: 1.3614 - accuracy: 0.7377 - val_loss: 1.3375 - val_accuracy: 0.7480\n",
            "Epoch 28/100\n",
            "469/469 [==============================] - 1s 2ms/step - loss: 1.3451 - accuracy: 0.7411 - val_loss: 1.3211 - val_accuracy: 0.7509\n",
            "Epoch 29/100\n",
            "469/469 [==============================] - 1s 2ms/step - loss: 1.3291 - accuracy: 0.7448 - val_loss: 1.3051 - val_accuracy: 0.7539\n",
            "Epoch 30/100\n",
            "469/469 [==============================] - 1s 2ms/step - loss: 1.3136 - accuracy: 0.7481 - val_loss: 1.2896 - val_accuracy: 0.7576\n",
            "Epoch 31/100\n",
            "469/469 [==============================] - 1s 2ms/step - loss: 1.2985 - accuracy: 0.7513 - val_loss: 1.2745 - val_accuracy: 0.7595\n",
            "Epoch 32/100\n",
            "469/469 [==============================] - 1s 2ms/step - loss: 1.2838 - accuracy: 0.7545 - val_loss: 1.2596 - val_accuracy: 0.7626\n",
            "Epoch 33/100\n",
            "469/469 [==============================] - 1s 2ms/step - loss: 1.2693 - accuracy: 0.7573 - val_loss: 1.2452 - val_accuracy: 0.7650\n",
            "Epoch 34/100\n",
            "469/469 [==============================] - 1s 2ms/step - loss: 1.2553 - accuracy: 0.7598 - val_loss: 1.2311 - val_accuracy: 0.7665\n",
            "Epoch 35/100\n",
            "469/469 [==============================] - 1s 2ms/step - loss: 1.2416 - accuracy: 0.7623 - val_loss: 1.2174 - val_accuracy: 0.7698\n",
            "Epoch 36/100\n",
            "469/469 [==============================] - 1s 2ms/step - loss: 1.2282 - accuracy: 0.7644 - val_loss: 1.2040 - val_accuracy: 0.7724\n",
            "Epoch 37/100\n",
            "469/469 [==============================] - 1s 2ms/step - loss: 1.2151 - accuracy: 0.7670 - val_loss: 1.1908 - val_accuracy: 0.7745\n",
            "Epoch 38/100\n",
            "469/469 [==============================] - 1s 2ms/step - loss: 1.2023 - accuracy: 0.7689 - val_loss: 1.1780 - val_accuracy: 0.7768\n",
            "Epoch 39/100\n",
            "469/469 [==============================] - 1s 2ms/step - loss: 1.1898 - accuracy: 0.7713 - val_loss: 1.1655 - val_accuracy: 0.7789\n",
            "Epoch 40/100\n",
            "469/469 [==============================] - 1s 2ms/step - loss: 1.1777 - accuracy: 0.7731 - val_loss: 1.1533 - val_accuracy: 0.7800\n",
            "Epoch 41/100\n",
            "469/469 [==============================] - 1s 2ms/step - loss: 1.1658 - accuracy: 0.7749 - val_loss: 1.1414 - val_accuracy: 0.7815\n",
            "Epoch 42/100\n",
            "469/469 [==============================] - 1s 2ms/step - loss: 1.1542 - accuracy: 0.7764 - val_loss: 1.1298 - val_accuracy: 0.7838\n",
            "Epoch 43/100\n",
            "469/469 [==============================] - 1s 2ms/step - loss: 1.1429 - accuracy: 0.7781 - val_loss: 1.1185 - val_accuracy: 0.7859\n",
            "Epoch 44/100\n",
            "469/469 [==============================] - 1s 2ms/step - loss: 1.1319 - accuracy: 0.7798 - val_loss: 1.1074 - val_accuracy: 0.7877\n",
            "Epoch 45/100\n",
            "469/469 [==============================] - 1s 2ms/step - loss: 1.1210 - accuracy: 0.7814 - val_loss: 1.0965 - val_accuracy: 0.7896\n",
            "Epoch 46/100\n",
            "469/469 [==============================] - 1s 2ms/step - loss: 1.1105 - accuracy: 0.7826 - val_loss: 1.0859 - val_accuracy: 0.7916\n",
            "Epoch 47/100\n",
            "469/469 [==============================] - 1s 2ms/step - loss: 1.1001 - accuracy: 0.7840 - val_loss: 1.0756 - val_accuracy: 0.7937\n",
            "Epoch 48/100\n",
            "469/469 [==============================] - 1s 2ms/step - loss: 1.0900 - accuracy: 0.7857 - val_loss: 1.0654 - val_accuracy: 0.7953\n",
            "Epoch 49/100\n",
            "469/469 [==============================] - 1s 2ms/step - loss: 1.0802 - accuracy: 0.7874 - val_loss: 1.0555 - val_accuracy: 0.7962\n",
            "Epoch 50/100\n",
            "469/469 [==============================] - 1s 2ms/step - loss: 1.0705 - accuracy: 0.7888 - val_loss: 1.0458 - val_accuracy: 0.7990\n",
            "Epoch 51/100\n",
            "469/469 [==============================] - 1s 2ms/step - loss: 1.0611 - accuracy: 0.7897 - val_loss: 1.0364 - val_accuracy: 0.8004\n",
            "Epoch 52/100\n",
            "469/469 [==============================] - 1s 2ms/step - loss: 1.0518 - accuracy: 0.7914 - val_loss: 1.0271 - val_accuracy: 0.8016\n",
            "Epoch 53/100\n",
            "469/469 [==============================] - 1s 2ms/step - loss: 1.0428 - accuracy: 0.7926 - val_loss: 1.0180 - val_accuracy: 0.8032\n",
            "Epoch 54/100\n",
            "469/469 [==============================] - 1s 2ms/step - loss: 1.0339 - accuracy: 0.7938 - val_loss: 1.0092 - val_accuracy: 0.8046\n",
            "Epoch 55/100\n",
            "469/469 [==============================] - 1s 2ms/step - loss: 1.0253 - accuracy: 0.7952 - val_loss: 1.0005 - val_accuracy: 0.8060\n",
            "Epoch 56/100\n",
            "469/469 [==============================] - 1s 2ms/step - loss: 1.0169 - accuracy: 0.7965 - val_loss: 0.9921 - val_accuracy: 0.8073\n",
            "Epoch 57/100\n",
            "469/469 [==============================] - 1s 2ms/step - loss: 1.0087 - accuracy: 0.7978 - val_loss: 0.9839 - val_accuracy: 0.8082\n",
            "Epoch 58/100\n",
            "469/469 [==============================] - 1s 2ms/step - loss: 1.0006 - accuracy: 0.7988 - val_loss: 0.9757 - val_accuracy: 0.8090\n",
            "Epoch 59/100\n",
            "469/469 [==============================] - 1s 2ms/step - loss: 0.9926 - accuracy: 0.7998 - val_loss: 0.9678 - val_accuracy: 0.8101\n",
            "Epoch 60/100\n",
            "469/469 [==============================] - 1s 2ms/step - loss: 0.9849 - accuracy: 0.8009 - val_loss: 0.9600 - val_accuracy: 0.8108\n",
            "Epoch 61/100\n",
            "469/469 [==============================] - 1s 2ms/step - loss: 0.9773 - accuracy: 0.8022 - val_loss: 0.9524 - val_accuracy: 0.8119\n",
            "Epoch 62/100\n",
            "469/469 [==============================] - 1s 2ms/step - loss: 0.9698 - accuracy: 0.8034 - val_loss: 0.9450 - val_accuracy: 0.8129\n",
            "Epoch 63/100\n",
            "469/469 [==============================] - 1s 2ms/step - loss: 0.9626 - accuracy: 0.8042 - val_loss: 0.9377 - val_accuracy: 0.8144\n",
            "Epoch 64/100\n",
            "469/469 [==============================] - 1s 2ms/step - loss: 0.9554 - accuracy: 0.8056 - val_loss: 0.9305 - val_accuracy: 0.8152\n",
            "Epoch 65/100\n",
            "469/469 [==============================] - 1s 2ms/step - loss: 0.9484 - accuracy: 0.8067 - val_loss: 0.9235 - val_accuracy: 0.8162\n",
            "Epoch 66/100\n",
            "469/469 [==============================] - 1s 2ms/step - loss: 0.9416 - accuracy: 0.8076 - val_loss: 0.9166 - val_accuracy: 0.8173\n",
            "Epoch 67/100\n",
            "469/469 [==============================] - 1s 2ms/step - loss: 0.9348 - accuracy: 0.8086 - val_loss: 0.9099 - val_accuracy: 0.8182\n",
            "Epoch 68/100\n",
            "469/469 [==============================] - 1s 2ms/step - loss: 0.9282 - accuracy: 0.8097 - val_loss: 0.9033 - val_accuracy: 0.8196\n",
            "Epoch 69/100\n",
            "469/469 [==============================] - 1s 2ms/step - loss: 0.9218 - accuracy: 0.8106 - val_loss: 0.8968 - val_accuracy: 0.8199\n",
            "Epoch 70/100\n",
            "469/469 [==============================] - 1s 2ms/step - loss: 0.9155 - accuracy: 0.8116 - val_loss: 0.8905 - val_accuracy: 0.8206\n",
            "Epoch 71/100\n",
            "469/469 [==============================] - 1s 2ms/step - loss: 0.9092 - accuracy: 0.8123 - val_loss: 0.8842 - val_accuracy: 0.8214\n",
            "Epoch 72/100\n",
            "469/469 [==============================] - 1s 2ms/step - loss: 0.9031 - accuracy: 0.8134 - val_loss: 0.8782 - val_accuracy: 0.8222\n",
            "Epoch 73/100\n",
            "469/469 [==============================] - 1s 2ms/step - loss: 0.8971 - accuracy: 0.8144 - val_loss: 0.8722 - val_accuracy: 0.8228\n",
            "Epoch 74/100\n",
            "469/469 [==============================] - 1s 2ms/step - loss: 0.8913 - accuracy: 0.8153 - val_loss: 0.8663 - val_accuracy: 0.8236\n",
            "Epoch 75/100\n",
            "469/469 [==============================] - 1s 2ms/step - loss: 0.8855 - accuracy: 0.8159 - val_loss: 0.8605 - val_accuracy: 0.8245\n",
            "Epoch 76/100\n",
            "469/469 [==============================] - 1s 2ms/step - loss: 0.8799 - accuracy: 0.8166 - val_loss: 0.8549 - val_accuracy: 0.8255\n",
            "Epoch 77/100\n",
            "469/469 [==============================] - 1s 2ms/step - loss: 0.8743 - accuracy: 0.8172 - val_loss: 0.8493 - val_accuracy: 0.8262\n",
            "Epoch 78/100\n",
            "469/469 [==============================] - 1s 2ms/step - loss: 0.8689 - accuracy: 0.8180 - val_loss: 0.8439 - val_accuracy: 0.8270\n",
            "Epoch 79/100\n",
            "469/469 [==============================] - 1s 2ms/step - loss: 0.8635 - accuracy: 0.8185 - val_loss: 0.8385 - val_accuracy: 0.8275\n",
            "Epoch 80/100\n",
            "469/469 [==============================] - 1s 2ms/step - loss: 0.8582 - accuracy: 0.8194 - val_loss: 0.8332 - val_accuracy: 0.8280\n",
            "Epoch 81/100\n",
            "469/469 [==============================] - 1s 2ms/step - loss: 0.8530 - accuracy: 0.8204 - val_loss: 0.8280 - val_accuracy: 0.8286\n",
            "Epoch 82/100\n",
            "469/469 [==============================] - 1s 2ms/step - loss: 0.8479 - accuracy: 0.8213 - val_loss: 0.8229 - val_accuracy: 0.8290\n",
            "Epoch 83/100\n",
            "469/469 [==============================] - 1s 2ms/step - loss: 0.8429 - accuracy: 0.8220 - val_loss: 0.8180 - val_accuracy: 0.8297\n",
            "Epoch 84/100\n",
            "469/469 [==============================] - 1s 2ms/step - loss: 0.8381 - accuracy: 0.8227 - val_loss: 0.8131 - val_accuracy: 0.8301\n",
            "Epoch 85/100\n",
            "469/469 [==============================] - 1s 2ms/step - loss: 0.8333 - accuracy: 0.8233 - val_loss: 0.8083 - val_accuracy: 0.8303\n",
            "Epoch 86/100\n",
            "469/469 [==============================] - 1s 2ms/step - loss: 0.8286 - accuracy: 0.8239 - val_loss: 0.8036 - val_accuracy: 0.8308\n",
            "Epoch 87/100\n",
            "469/469 [==============================] - 1s 2ms/step - loss: 0.8239 - accuracy: 0.8245 - val_loss: 0.7990 - val_accuracy: 0.8314\n",
            "Epoch 88/100\n",
            "469/469 [==============================] - 1s 2ms/step - loss: 0.8194 - accuracy: 0.8253 - val_loss: 0.7944 - val_accuracy: 0.8322\n",
            "Epoch 89/100\n",
            "469/469 [==============================] - 1s 2ms/step - loss: 0.8149 - accuracy: 0.8261 - val_loss: 0.7899 - val_accuracy: 0.8336\n",
            "Epoch 90/100\n",
            "469/469 [==============================] - 1s 2ms/step - loss: 0.8104 - accuracy: 0.8265 - val_loss: 0.7855 - val_accuracy: 0.8343\n",
            "Epoch 91/100\n",
            "469/469 [==============================] - 1s 2ms/step - loss: 0.8061 - accuracy: 0.8270 - val_loss: 0.7812 - val_accuracy: 0.8354\n",
            "Epoch 92/100\n",
            "469/469 [==============================] - 1s 2ms/step - loss: 0.8018 - accuracy: 0.8276 - val_loss: 0.7769 - val_accuracy: 0.8359\n",
            "Epoch 93/100\n",
            "469/469 [==============================] - 1s 2ms/step - loss: 0.7976 - accuracy: 0.8283 - val_loss: 0.7727 - val_accuracy: 0.8370\n",
            "Epoch 94/100\n",
            "469/469 [==============================] - 1s 2ms/step - loss: 0.7934 - accuracy: 0.8291 - val_loss: 0.7685 - val_accuracy: 0.8383\n",
            "Epoch 95/100\n",
            "469/469 [==============================] - 1s 2ms/step - loss: 0.7894 - accuracy: 0.8296 - val_loss: 0.7645 - val_accuracy: 0.8385\n",
            "Epoch 96/100\n",
            "469/469 [==============================] - 1s 2ms/step - loss: 0.7854 - accuracy: 0.8302 - val_loss: 0.7604 - val_accuracy: 0.8393\n",
            "Epoch 97/100\n",
            "469/469 [==============================] - 1s 2ms/step - loss: 0.7814 - accuracy: 0.8307 - val_loss: 0.7565 - val_accuracy: 0.8399\n",
            "Epoch 98/100\n",
            "469/469 [==============================] - 1s 2ms/step - loss: 0.7775 - accuracy: 0.8311 - val_loss: 0.7526 - val_accuracy: 0.8401\n",
            "Epoch 99/100\n",
            "469/469 [==============================] - 1s 2ms/step - loss: 0.7737 - accuracy: 0.8316 - val_loss: 0.7488 - val_accuracy: 0.8415\n",
            "Epoch 100/100\n",
            "469/469 [==============================] - 1s 2ms/step - loss: 0.7699 - accuracy: 0.8321 - val_loss: 0.7450 - val_accuracy: 0.8419\n",
            "모델 학습 시간:  84.16268539428711\n"
          ]
        }
      ]
    },
    {
      "cell_type": "code",
      "metadata": {
        "colab": {
          "base_uri": "https://localhost:8080/"
        },
        "id": "7c9zCYWIjMqF",
        "outputId": "14beeb09-7081-45d2-f8bc-60983f646792"
      },
      "source": [
        "score = model.evaluate(test_scaled, y_test, verbose=0)\n",
        "print('Test loss:', score[0])\n",
        "print('Test accuracy:', score[1])"
      ],
      "execution_count": 31,
      "outputs": [
        {
          "output_type": "stream",
          "name": "stdout",
          "text": [
            "Test loss: 0.7450394034385681\n",
            "Test accuracy: 0.8418999910354614\n"
          ]
        }
      ]
    }
  ]
}